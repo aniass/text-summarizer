{
 "cells": [
  {
   "cell_type": "markdown",
   "metadata": {
    "id": "_x5KScRHaduk"
   },
   "source": [
    "\n",
    "# Text Summarization\n",
    "\n",
    "The project concerns text summarization using two method - Extractive Summarization and Abstractive Summarization.  I have used three extractive technique such as calculating word frequency with spacy library, TFIDF vectorizer implementation and automatic text summarization with gensim library. To show abstractive technigues I have used Hugging Face Transformer library. \n",
    "\n",
    "One of the application of text analysis and NLP is Text Summarization. It is a technique of shortening long pieces of text into a  short message.  The intention is to create a cohesive and fluent summary include only the main points outlined in the document. \n",
    "\n",
    "**Extractive Summarization** is based on an extracting several parts, such as phrases and sentences, from a piece of text and stack them together to create a summary. It is important to identifying important phrases or sentences from the original text because it is of utmost importance in this method.\n",
    "\n",
    "**Abstractive Summarization** is a relies on generating new sentences from the original text. The sentences generated through this approach might not even be present in the original text. In these methods most often use advanced NLP techniques.\n",
    "\n",
    "### Dataset\n",
    "\n",
    "In this project I have used an article coming from BBC news."
   ]
  },
  {
   "cell_type": "code",
   "execution_count": null,
   "metadata": {
    "id": "4skjYwU3g7Ab"
   },
   "outputs": [],
   "source": [
    "pip install transformers"
   ]
  },
  {
   "cell_type": "code",
   "execution_count": null,
   "metadata": {
    "id": "4AgIdJEohSCQ"
   },
   "outputs": [],
   "source": [
    "# word frequency \n",
    "import spacy\n",
    "from spacy.lang.en.stop_words import STOP_WORDS\n",
    "from string import punctuation\n",
    "from heapq import nlargest\n",
    "\n",
    "# tfidf \n",
    "import nltk\n",
    "from nltk.tokenize import sent_tokenize\n",
    "from sklearn.feature_extraction.text import TfidfVectorizer\n",
    "\n",
    "# gensim\n",
    "from gensim.summarization.summarizer import summarize \n",
    "from gensim.summarization import keywords \n",
    "\n",
    "# transformers\n",
    "from transformers import pipeline\n",
    "from transformers import BartTokenizer, BartForConditionalGeneration"
   ]
  },
  {
   "cell_type": "code",
   "execution_count": null,
   "metadata": {
    "colab": {
     "base_uri": "https://localhost:8080/"
    },
    "id": "Cti9JKiayNco",
    "outputId": "bf7d7a50-8ac0-464f-84a0-d07e01a20c79"
   },
   "outputs": [
    {
     "name": "stdout",
     "output_type": "stream",
     "text": [
      "[nltk_data] Downloading package punkt to /root/nltk_data...\n",
      "[nltk_data]   Unzipping tokenizers/punkt.zip.\n"
     ]
    },
    {
     "data": {
      "text/plain": [
       "True"
      ]
     },
     "execution_count": 3,
     "metadata": {},
     "output_type": "execute_result"
    }
   ],
   "source": [
    "nltk.download('punkt')"
   ]
  },
  {
   "cell_type": "markdown",
   "metadata": {
    "id": "A8Gx_BcmHNls"
   },
   "source": [
    "Reading data:"
   ]
  },
  {
   "cell_type": "code",
   "execution_count": null,
   "metadata": {
    "colab": {
     "base_uri": "https://localhost:8080/"
    },
    "id": "p1XSGGdMoNN_",
    "outputId": "322468d5-3ff4-4515-ab21-805a829a0484"
   },
   "outputs": [
    {
     "name": "stdout",
     "output_type": "stream",
     "text": [
      "Scientists say they have made a major step forward in efforts to store information as molecules of DNA, which are more compact and long-lasting than other options.\n",
      "The magnetic hard drives we currently use to store computer data can take up lots of space.\n",
      "And they have to be replaced over time.\n",
      "Using life's preferred storage medium to back up our precious data would allow vast amounts of information to be archived in tiny molecules.\n",
      "The data would also last thousands of years, according to scientists.\n",
      "A team in Atlanta, US, has now developed a chip that they say could improve on existing forms of DNA storage by a factor of 100.\n",
      "\"The density of features on our new chip is [approximately] 100x higher than current commercial devices,\" Nicholas Guise, senior research scientist at Georgia Tech Research Institute (GTRI), told BBC News.\n",
      "\"So once we add all the control electronics - which is what we're doing over the next year of the program - we expect something like a 100x improvement over existing technology for DNA data storage.\"\n",
      "The technology works by growing unique strands of DNA one building block at a time. These building blocks are known as bases - four distinct chemical units that make up the DNA molecule. They are: adenine, cytosine, guanine and thymine.\n",
      "The bases can then be used to encode information, in a way that's analogous to the strings of ones and zeroes (binary code) that carry data in traditional computing.\n",
      "There are different potential ways to store this information in DNA - for example, a zero in binary code could be represented by the bases adenine or cytosine and a one might be represented by guanine or thymine. Alternatively, a one and zero could be mapped to just two of the four bases.\n",
      "Scientists have said that, if formatted in DNA, every movie ever made could fit inside a volume smaller than a sugar cube.\n",
      "Given how compact and reliable it is, it's not surprising there is now broad interest in DNA as the next medium for archiving data that needs to be kept indefinitely.\n",
      "The structures on the chip used to grow the DNA are called microwells and are a few hundred nanometres deep - less than the thickness of a sheet of paper.\n",
      "The current prototype microchip is about 2.5cm (one-inch) square and includes multiple microwells, allowing several DNA strands to be synthesised in parallel. This will allow larger amounts of DNA to be grown in a shorter space of time.\n",
      "Because it's a prototype, not all the microwells are wired up yet. This means the total amount of DNA data that can be written with this particular chip is currently less than what leading synthesis companies can produce on commercial chips.\n",
      "However, Dr Guise explained, when everything's up and running, that will change. The current record for DNA digital data storage is around 200MB, with single synthesis runs lasting about 24 hours. But the new technology could write 100 times more DNA data in the same amount of time.\n",
      "The high cost of DNA storage has so far restricted the technology to \"boutique customers\", such as those seeking to archive information in time capsules.\n",
      "The team at GTRI believes their work could help reshape the cost curve. It has partnered with two California biotech companies to make a commercially-viable demonstration of the technology: Twist Bioscience and Roswell Biotechnologies.\n",
      "DNA data storage won't initially replace server farms for information that must be accessed quickly and often. Because of the time required for reading the sequence, the technique would be most useful for information that must be kept available for a long time, but accessed infrequently.\n",
      "This type of data is currently stored on magnetic tapes which should be replaced around every 10 years.\n",
      "With DNA, however, \"as long as you keep the temperature low enough, the data will survive for thousands of years, so the cost of ownership drops to almost zero\", Dr Guise explained.\n",
      "\"It only costs much money to write the DNA once at the beginning and then to read the DNA at the end. If we can get the cost of this technology competitive with the cost of writing data magnetically, the cost of storing and maintaining information in DNA over many years should be lower.\"\n",
      "DNA storage has a higher error rate than conventional hard drive storage. In collaboration with the University of Washington, GTRI researchers have come up with a way of identifying and correcting those errors.\n",
      "The work has been backed by the Intelligence Advanced Research Projects Activity (IARPA), which supports science geared towards overcoming challenges relevant to the US intelligence community.\n",
      "\n"
     ]
    }
   ],
   "source": [
    "with open('text1.txt') as file:\n",
    "  text = file.read()\n",
    "  print(text)"
   ]
  },
  {
   "cell_type": "code",
   "execution_count": null,
   "metadata": {
    "colab": {
     "base_uri": "https://localhost:8080/"
    },
    "id": "OjM8lE-4oNDv",
    "outputId": "a0a079bf-5b9a-40fb-f64b-6d1c30e2531c"
   },
   "outputs": [
    {
     "data": {
      "text/plain": [
       "4601"
      ]
     },
     "execution_count": 6,
     "metadata": {},
     "output_type": "execute_result"
    }
   ],
   "source": [
    "len(text)"
   ]
  },
  {
   "cell_type": "markdown",
   "metadata": {
    "id": "cTbbQYw4X9dE"
   },
   "source": [
    "## Extractive Summarization\n",
    "\n",
    "#### 1. Text summary based on word frequency with Spacy library\n",
    "\n",
    "One of the method of text summary is calculating word frequencies and then normalizing the word frequencies by dividing by the maximum frequency, then finding the sentences with high frequencies and taking the most important sentences to convert into the summary.\n",
    "\n",
    "The algorithm is composed on a few steps:\n",
    "- text cleaning: removing stopwords and making the words in lower case.\n",
    "- tokenization each word from sentences;\n",
    "- calculating of word frequency;\n",
    "- sentence tokenization;\n",
    "- creating summarization.\n",
    "\n",
    "First I have build an NLP object, list of stopwords and created a tokenization of text."
   ]
  },
  {
   "cell_type": "code",
   "execution_count": null,
   "metadata": {
    "id": "hOj0YELCX6Rn"
   },
   "outputs": [],
   "source": [
    "nlp = spacy.load('en')\n",
    "\n",
    "# build an nlp object\n",
    "doc = nlp(text)"
   ]
  },
  {
   "cell_type": "code",
   "execution_count": null,
   "metadata": {
    "id": "JhlWRPC1X6Nq"
   },
   "outputs": [],
   "source": [
    "stopwords = list(STOP_WORDS)"
   ]
  },
  {
   "cell_type": "code",
   "execution_count": null,
   "metadata": {
    "id": "pFnBjSJrX6YB"
   },
   "outputs": [],
   "source": [
    "my_tokens = [token.text for token in doc]"
   ]
  },
  {
   "cell_type": "markdown",
   "metadata": {
    "id": "_I8pvU9Znjiu"
   },
   "source": [
    "*Word frequency*\n",
    "\n",
    "Now I have calculated the word frequency. It is a dictionary of words and their counts. It counts how many times each word appears in the document after removing stopwords.\n",
    "\n",
    "Calculating word frequencies from the text after removing stopwords:"
   ]
  },
  {
   "cell_type": "code",
   "execution_count": null,
   "metadata": {
    "id": "ECHZg6JlX6cl"
   },
   "outputs": [],
   "source": [
    "word_frequencies = {}\n",
    "\n",
    "for word in doc:\n",
    "  if word.text.lower() not in stopwords:\n",
    "    if word.text not in word_frequencies.keys():\n",
    "       word_frequencies[word.text] = 1\n",
    "    else:\n",
    "      word_frequencies[word.text] += 1"
   ]
  },
  {
   "cell_type": "markdown",
   "metadata": {
    "id": "zYguByhguYJE"
   },
   "source": [
    "*Maximum Word Frequency*\n",
    "\n",
    "The maximum word frequency finds the weighted frequency of words. It is based on find each word over most occurring word and long sentence over short sentence.\n",
    "\n",
    "Calculating the maximum frequency and divide it by all frequencies to get normalized word frequencies:"
   ]
  },
  {
   "cell_type": "code",
   "execution_count": null,
   "metadata": {
    "id": "y0gWEt3XmKtn"
   },
   "outputs": [],
   "source": [
    "max_frequency = max(word_frequencies.values())\n",
    "\n",
    "for word in word_frequencies.keys():\n",
    "    word_frequencies[word] = word_frequencies[word]/max_frequency"
   ]
  },
  {
   "cell_type": "markdown",
   "metadata": {
    "id": "pHxP1a6Evnki"
   },
   "source": [
    "*Word Frequency Distribution*\n",
    "\n",
    "In this step I have calculated sentence score and ranking of words in each sentence. I calculated the most important sentences by adding the word frequencies in each sentence.\n",
    "\n",
    "Creating sentence tokens:"
   ]
  },
  {
   "cell_type": "code",
   "execution_count": null,
   "metadata": {
    "id": "dSBvfr9HmK10"
   },
   "outputs": [],
   "source": [
    "sent_tokens = [sent for sent in doc.sents]"
   ]
  },
  {
   "cell_type": "code",
   "execution_count": null,
   "metadata": {
    "id": "tL5hRPX6mK5f"
   },
   "outputs": [],
   "source": [
    "sentence_scores = {}  \n",
    "\n",
    "for sent in sent_tokens:\n",
    "    for word in sent:\n",
    "      if word.text.lower() in word_frequencies.keys():\n",
    "        if sent not in sentence_scores.keys():\n",
    "          sentence_scores[sent] = word_frequencies[word.text.lower()]\n",
    "        else:\n",
    "          sentence_scores[sent] += word_frequencies[word.text.lower()]"
   ]
  },
  {
   "cell_type": "code",
   "execution_count": null,
   "metadata": {
    "id": "nvQ2WaKwmK83"
   },
   "outputs": [],
   "source": [
    "print(sentence_scores)"
   ]
  },
  {
   "cell_type": "markdown",
   "metadata": {
    "id": "OS8YkhcL0tgQ"
   },
   "source": [
    "Selecting 30% sentences with a maximum score and calculated it by using headhq library from nlargest method."
   ]
  },
  {
   "cell_type": "code",
   "execution_count": null,
   "metadata": {
    "colab": {
     "base_uri": "https://localhost:8080/"
    },
    "id": "xaoDnAqA0X3S",
    "outputId": "421046d9-e1d0-49a0-df13-52b4c707e738"
   },
   "outputs": [
    {
     "name": "stdout",
     "output_type": "stream",
     "text": [
      "11\n"
     ]
    }
   ],
   "source": [
    "length = int(len(sentence_scores) *0.3)\n",
    "print(length)"
   ]
  },
  {
   "cell_type": "code",
   "execution_count": null,
   "metadata": {
    "id": "kO9sUktf0X-X"
   },
   "outputs": [],
   "source": [
    "summary = nlargest(length, sentence_scores, key=sentence_scores.get)"
   ]
  },
  {
   "cell_type": "markdown",
   "metadata": {
    "id": "BO0so2x63Cy0"
   },
   "source": [
    "Getting the summary of text:"
   ]
  },
  {
   "cell_type": "code",
   "execution_count": null,
   "metadata": {
    "colab": {
     "base_uri": "https://localhost:8080/"
    },
    "id": "9nskWnB2Mu9q",
    "outputId": "f5dec3e9-2908-4d3b-ff30-5e561bc4d3ec"
   },
   "outputs": [
    {
     "name": "stdout",
     "output_type": "stream",
     "text": [
      "With DNA, however, \"as long as you keep the temperature low enough, the data will survive for thousands of years, so the cost of ownership drops to almost zero\", Dr Guise explained.\n",
      "\"The density of features on our new chip is [approximately] 100x higher than current commercial devices,\" Nicholas Guise, senior research scientist at Georgia Tech Research Institute (GTRI), told BBC News.\n",
      "Because of the time required for reading the sequence, the technique would be most useful for information that must be kept available for a long time, but accessed infrequently.\n",
      "If we can get the cost of this technology competitive with the cost of writing data magnetically, the cost of storing and maintaining information in DNA over many years should be lower.\"\n",
      "The high cost of DNA storage has so far restricted the technology to \"boutique customers\", such as those seeking to archive information in time capsules.\n",
      "A team in Atlanta, US, has now developed a chip that they say could improve on existing forms of DNA storage by a factor of 100.\n",
      "The bases can then be used to encode information, in a way that's analogous to the strings of ones and zeroes (binary code) that carry data in traditional computing.\n",
      "\"So once we add all the control electronics - which is what we're doing over the next year of the program - we expect something like a 100x improvement over existing technology for DNA data storage.\"\n",
      "However, Dr Guise explained, when everything's up and running, that will change.They are: adenine, cytosine, guanine and thymine.\n",
      "Scientists have said that, if formatted in DNA, every movie ever made could fit inside a volume smaller than a sugar cube.\n",
      "\n"
     ]
    }
   ],
   "source": [
    "final_summary = [word.text for word in summary]\n",
    "summary = ''.join(final_summary)\n",
    "print(summary)"
   ]
  },
  {
   "cell_type": "markdown",
   "metadata": {
    "id": "dFiU5D8pMy8n"
   },
   "source": [
    "Below the function to create the summary based on word frequency with the spacy library."
   ]
  },
  {
   "cell_type": "code",
   "execution_count": null,
   "metadata": {
    "id": "0VQMMjdXOP5H"
   },
   "outputs": [],
   "source": [
    "def get_summary(text):\n",
    "  doc = nlp(text)\n",
    "  \n",
    "  word_frequencies= {}\n",
    "  for word in doc:\n",
    "    if word.text.lower() not in stopwords:\n",
    "      if word.text not in word_frequencies.keys():\n",
    "        word_frequencies[word.text] = 1\n",
    "      else:\n",
    "        word_frequencies[word.text] += 1\n",
    "\n",
    "  max_frequency = max(word_frequencies.values())\n",
    "  for word in word_frequencies.keys():\n",
    "    word_frequencies[word] = word_frequencies[word]/max_frequency\n",
    "\n",
    "  sent_tokens = [sent for sent in doc.sents]\n",
    "  sentence_scores = {} \n",
    "  for sent in sent_tokens:\n",
    "    for word in sent:\n",
    "      if word.text.lower() in word_frequencies.keys():\n",
    "        if sent not in sentence_scores.keys():\n",
    "          sentence_scores[sent] = word_frequencies[word.text.lower()]\n",
    "        else:\n",
    "          sentence_scores[sent] += word_frequencies[word.text.lower()]\n",
    "  \n",
    "  length = int(len(sentence_scores) *0.3)\n",
    "  summary = nlargest(length, sentence_scores, key=sentence_scores.get)\n",
    "  final_summary = [word.text for word in summary]\n",
    "  summary = ''.join(final_summary)\n",
    "  return summary"
   ]
  },
  {
   "cell_type": "markdown",
   "metadata": {
    "id": "fqGg3ehgwFHt"
   },
   "source": [
    "#### 2. Text Summarization using TF-IDF vectorizer\n",
    "\n",
    "In this approach I have used TF-IDF to get text summarization. I have used TF-IDF vectorizer for sentence score(importance) and returning only the most important sentences in the text. \n",
    "\n",
    "The TF-IDF (term frequency-inverse document frequency) is a vectorizer that converts the text into a vector. It has two terms term frequency and inverse document frequency. The value of TF-IDF is the product of these two terms. Term frequency is the number of repetitions of words in a sentence by the total number of words in that sentence. Inverse document frequency is the log of number of sentences by the number of sentences containing the given word. \n",
    "\n",
    "In this step I have divided the text into tokens. "
   ]
  },
  {
   "cell_type": "code",
   "execution_count": null,
   "metadata": {
    "id": "1b-Xfxp5CEDC"
   },
   "outputs": [],
   "source": [
    "tokens = sent_tokenize(text)"
   ]
  },
  {
   "cell_type": "markdown",
   "metadata": {
    "id": "HQ3eC4DaywSl"
   },
   "source": [
    "Creating a tf-idf vectorizer that based on this it will get the scores of each sentence that it created during tokenization."
   ]
  },
  {
   "cell_type": "code",
   "execution_count": null,
   "metadata": {
    "id": "klmFa8_NCEOw"
   },
   "outputs": [],
   "source": [
    "vectorizer = TfidfVectorizer(stop_words='english')\n",
    "tf_idf = vectorizer.fit_transform(tokens) "
   ]
  },
  {
   "cell_type": "markdown",
   "metadata": {
    "id": "aFXPCnkGzg6P"
   },
   "source": [
    "In this step I have used TFIDF score of each word to calculate the total sentence score.\n",
    "\n",
    "Calculating sentence score:"
   ]
  },
  {
   "cell_type": "code",
   "execution_count": null,
   "metadata": {
    "id": "6O4l2frJ4U96"
   },
   "outputs": [],
   "source": [
    "sent_index = 0\n",
    "sent_score = []\n",
    "for i in tf_idf:\n",
    "  score = i.sum()/len(i.data)\n",
    "  sent_index +=1\n",
    "  sent_score.append(score)"
   ]
  },
  {
   "cell_type": "code",
   "execution_count": null,
   "metadata": {
    "colab": {
     "base_uri": "https://localhost:8080/"
    },
    "id": "e6_WUQa5CEUd",
    "outputId": "c59f652f-936d-47d1-c57f-9c4f87eca529"
   },
   "outputs": [
    {
     "data": {
      "text/plain": [
       "36"
      ]
     },
     "execution_count": 10,
     "metadata": {},
     "output_type": "execute_result"
    }
   ],
   "source": [
    "len(sent_score)"
   ]
  },
  {
   "cell_type": "code",
   "execution_count": null,
   "metadata": {
    "colab": {
     "base_uri": "https://localhost:8080/"
    },
    "id": "oqTs8KKDCEb4",
    "outputId": "23b50438-7fee-4deb-a18f-51274a9a9961"
   },
   "outputs": [
    {
     "data": {
      "text/plain": [
       "36"
      ]
     },
     "execution_count": 11,
     "metadata": {},
     "output_type": "execute_result"
    }
   ],
   "source": [
    "len(tokens)"
   ]
  },
  {
   "cell_type": "markdown",
   "metadata": {
    "id": "-HXM0Um05UP2"
   },
   "source": [
    "Calculating the  average of sentence scores:"
   ]
  },
  {
   "cell_type": "code",
   "execution_count": null,
   "metadata": {
    "colab": {
     "base_uri": "https://localhost:8080/"
    },
    "id": "RQDsV3gV5LEB",
    "outputId": "4d688921-ace7-41d1-a7f9-2bb96e3abd0b"
   },
   "outputs": [
    {
     "data": {
      "text/plain": [
       "0.32622956634369615"
      ]
     },
     "execution_count": 12,
     "metadata": {},
     "output_type": "execute_result"
    }
   ],
   "source": [
    "avg_sent = sum(sent_score)/len(sent_score) \n",
    "avg_sent"
   ]
  },
  {
   "cell_type": "markdown",
   "metadata": {
    "id": "3pTDV4lg6hth"
   },
   "source": [
    "Finally is getting the summary by finding the most important sentences:"
   ]
  },
  {
   "cell_type": "code",
   "execution_count": null,
   "metadata": {
    "id": "H7B7tqlTEqrV"
   },
   "outputs": [],
   "source": [
    "index = 0\n",
    "summary1 = []\n",
    "for i in sent_score:\n",
    "  if (i > (avg_sent)):\n",
    "    summary1.append(tokens[index])\n",
    "  index += 1\n",
    "output_text = ''\n",
    "for i in summary1:\n",
    "  output_text=output_text + str(i)"
   ]
  },
  {
   "cell_type": "code",
   "execution_count": null,
   "metadata": {
    "colab": {
     "base_uri": "https://localhost:8080/",
     "height": 128
    },
    "id": "g0F7gtLZE0f5",
    "outputId": "dc57f66d-ad42-4eb3-ded5-e1b2ac03d9a2"
   },
   "outputs": [
    {
     "data": {
      "application/vnd.google.colaboratory.intrinsic+json": {
       "type": "string"
      },
      "text/plain": [
       "'And they have to be replaced over time.The data would also last thousands of years, according to scientists.They are: adenine, cytosine, guanine and thymine.Alternatively, a one and zero could be mapped to just two of the four bases.This will allow larger amounts of DNA to be grown in a shorter space of time.Because it\\'s a prototype, not all the microwells are wired up yet.However, Dr Guise explained, when everything\\'s up and running, that will change.But the new technology could write 100 times more DNA data in the same amount of time.The team at GTRI believes their work could help reshape the cost curve.This type of data is currently stored on magnetic tapes which should be replaced around every 10 years.\"It only costs much money to write the DNA once at the beginning and then to read the DNA at the end.DNA storage has a higher error rate than conventional hard drive storage.'"
      ]
     },
     "execution_count": 16,
     "metadata": {},
     "output_type": "execute_result"
    }
   ],
   "source": [
    "output_text"
   ]
  },
  {
   "cell_type": "markdown",
   "metadata": {
    "id": "sOBJSLzWXTqw"
   },
   "source": [
    "The complete code is given as follows:"
   ]
  },
  {
   "cell_type": "code",
   "execution_count": null,
   "metadata": {
    "id": "XWRZflRn_41N"
   },
   "outputs": [],
   "source": [
    "def create_summary(text):\n",
    "  tokens = sent_tokenize(text)\n",
    "\n",
    "  vectorizer = TfidfVectorizer(stop_words='english')\n",
    "  tf_idf = vectorizer.fit_transform(tokens) \n",
    "\n",
    "  sent_index = 0\n",
    "  sent_score = []\n",
    "  for i in tf_idf:\n",
    "    score = i.sum()/len(i.data)\n",
    "    sent_index +=1\n",
    "    sent_score.append(score)\n",
    "  \n",
    "  avg_sent = sum(sent_score)/len(sent_score) \n",
    "\n",
    "  index = 0\n",
    "  summary1 = []\n",
    "  for i in sent_score:\n",
    "    if (i > (avg_sent)):\n",
    "      summary1.append(tokens[index])\n",
    "    index += 1\n",
    "  output_text = ''\n",
    "  for i in summary1:\n",
    "    output_text = output_text + str(i)\n",
    "  return output_text"
   ]
  },
  {
   "cell_type": "markdown",
   "metadata": {
    "id": "rB0ktZFkg0Kq"
   },
   "source": [
    "#### 3. Text summary using Gensim library\n",
    "\n",
    "One of the method to get text summary is used library to automatic text summarization such as gensim. The library provides is automatic summarization based on TextRank algorithm.\n",
    "\n",
    "For get summary one can import the appropriate method from library and pass on text which it want to summarize. The word_count parametr specifies the number of words summary should contain. I have set word count = 50."
   ]
  },
  {
   "cell_type": "code",
   "execution_count": null,
   "metadata": {
    "id": "GyWEirXAAGKH"
   },
   "outputs": [],
   "source": [
    "summ_text = summarize(text, word_count = 100) "
   ]
  },
  {
   "cell_type": "code",
   "execution_count": null,
   "metadata": {
    "colab": {
     "base_uri": "https://localhost:8080/"
    },
    "id": "x5jmcbRTNHk0",
    "outputId": "f906aa0e-5073-4b85-bb65-ba6803de57d5"
   },
   "outputs": [
    {
     "name": "stdout",
     "output_type": "stream",
     "text": [
      "There are different potential ways to store this information in DNA - for example, a zero in binary code could be represented by the bases adenine or cytosine and a one might be represented by guanine or thymine.\n",
      "The high cost of DNA storage has so far restricted the technology to \"boutique customers\", such as those seeking to archive information in time capsules.\n",
      "If we can get the cost of this technology competitive with the cost of writing data magnetically, the cost of storing and maintaining information in DNA over many years should be lower.\"\n"
     ]
    }
   ],
   "source": [
    "print(summ_text.replace('\\n', '\\n'))"
   ]
  },
  {
   "cell_type": "markdown",
   "metadata": {
    "id": "9fAqNZRCg0OD"
   },
   "source": [
    "## Abstractive Text Summarization\n",
    "\n",
    "#### 1. Text Summarization using Hugging Face Transformer\n",
    "\n",
    "Hugging Face Transformer uses an abstractive summarization approach where the model elaborates new sentences in a new form exactly like people and produces an entire separate text that is shorter than the original one.\n",
    "\n",
    "To get the summary one can import the pipeline from the transformer module."
   ]
  },
  {
   "cell_type": "code",
   "execution_count": null,
   "metadata": {
    "colab": {
     "base_uri": "https://localhost:8080/",
     "height": 195,
     "referenced_widgets": [
      "7972bcf8d9be4c2980b797274eb52234",
      "6e92fa69ed9d45be997155df9c218645",
      "e19011cbf81e4b16bfcd9b9a6c70fc5a",
      "6d45ac047dd74c4c9934c47722c71a11",
      "ab9e0c8104df4814970d1ebe5958e8dd",
      "a99130077b3e4146bd2ae20eb0caed0d",
      "d1527855afc54938b7826f7277fddfeb",
      "ed237ecd06b247ceb3ee22178e6f9cc3",
      "00a47000e2924347b3df9fdc8ca16a2c",
      "b406cb4d76fd45d4bf253d6701289233",
      "c3b142450a8743a9975dd4246131e4cc",
      "019d92a6077e4eabaec6cacde7ae2d9f",
      "1fc3de43b80043f3b2e6d98b70192914",
      "63556ab2d29a4d82acd28b6730f6ee48",
      "41f4ed393bc64abfa2983f48041ebf9c",
      "b01e3a205fae4f98affca91e748bd181",
      "3047ec4d8e4e4f9a92a18a7be624f476",
      "b155fcbe0e39402ea6255cdbbd7bccc1",
      "d715f6117ece4574aabce18d49349126",
      "de856f033a2749b9b1f9a457f239ecf8",
      "35be273cb14d4cf59dcd2424ee932dd0",
      "176624de230b4a819462a1c7ea775959",
      "761b2f1744134393b67ddb4dd3ef4e17",
      "b6d9dc95bb284eadb0df957548c99db9",
      "52df43e750f340d2b93fbe6742e90a85",
      "5bb1a5c391d148bda083c73f677fc560",
      "260d249fcd9c4be2b2c7d816e95b9554",
      "4c78a38b836e495b97e08750d386b4ba",
      "0e01504a366845a4b95f8a311aeaa9b6",
      "aceaf563bcd646a8b167c33449d9b03f",
      "5f8585db010f4f4e94cf36bbdcbf63f8",
      "46e0491b38d44e2fb233597cf82d3df0",
      "bb8b8de2dfd844478be7c0519e0ffadc",
      "31ebe59528ee4fb688c55b0de2d57c43",
      "4f31bbbd39d1489e967f6da4d699f098",
      "152008f367444aa6a6e5bec1f1efb517",
      "5fa8625dc26d44bd9d2a6c0c9f564420",
      "3d0e1debb80d4500a047c3d13a68b2fa",
      "89a40c6ab206469aaaaf33dc72f1de35",
      "12bb1d4a7a7d442b8b457723617a0ea5",
      "7960a67653e34eaa9bca9f344ac39c34",
      "5d942d9f1ac64b3e8fa072a40a396ce6",
      "cbc65cb2ab004c258178751b518547d8",
      "e45e563cd44d4523865cc1f21abc8000",
      "d97173097ada41d68d873bc144dac4e6",
      "19bc3d1ac74147a5bc05a13982908fdd",
      "66c85d8cba4c43a49c1e53b7b398387e",
      "33a24bfea88443219e8c0356a88c376a",
      "26a1d6790ac64ef2853fcf620ef99e4e",
      "4a0b51f7a8b448f6b60e80597d359224",
      "5dc6487e68404b2d8fd409e71014eff8",
      "fe19b9539bad4e1aaca640fe7fbd3cf6",
      "e62abaf2a91540539ce51a515d985289",
      "3f3724b222b74e2bb8ffc9332727c65b",
      "de7bd7bd1bba462fa728d51fca74fb17"
     ]
    },
    "id": "-80UALbBhSO7",
    "outputId": "d9c92e77-1c47-402d-b8fb-2407000e3026"
   },
   "outputs": [
    {
     "name": "stderr",
     "output_type": "stream",
     "text": [
      "No model was supplied, defaulted to sshleifer/distilbart-cnn-12-6 (https://huggingface.co/sshleifer/distilbart-cnn-12-6)\n"
     ]
    },
    {
     "data": {
      "application/vnd.jupyter.widget-view+json": {
       "model_id": "7972bcf8d9be4c2980b797274eb52234",
       "version_major": 2,
       "version_minor": 0
      },
      "text/plain": [
       "Downloading:   0%|          | 0.00/1.76k [00:00<?, ?B/s]"
      ]
     },
     "metadata": {},
     "output_type": "display_data"
    },
    {
     "data": {
      "application/vnd.jupyter.widget-view+json": {
       "model_id": "019d92a6077e4eabaec6cacde7ae2d9f",
       "version_major": 2,
       "version_minor": 0
      },
      "text/plain": [
       "Downloading:   0%|          | 0.00/1.14G [00:00<?, ?B/s]"
      ]
     },
     "metadata": {},
     "output_type": "display_data"
    },
    {
     "data": {
      "application/vnd.jupyter.widget-view+json": {
       "model_id": "761b2f1744134393b67ddb4dd3ef4e17",
       "version_major": 2,
       "version_minor": 0
      },
      "text/plain": [
       "Downloading:   0%|          | 0.00/26.0 [00:00<?, ?B/s]"
      ]
     },
     "metadata": {},
     "output_type": "display_data"
    },
    {
     "data": {
      "application/vnd.jupyter.widget-view+json": {
       "model_id": "31ebe59528ee4fb688c55b0de2d57c43",
       "version_major": 2,
       "version_minor": 0
      },
      "text/plain": [
       "Downloading:   0%|          | 0.00/878k [00:00<?, ?B/s]"
      ]
     },
     "metadata": {},
     "output_type": "display_data"
    },
    {
     "data": {
      "application/vnd.jupyter.widget-view+json": {
       "model_id": "d97173097ada41d68d873bc144dac4e6",
       "version_major": 2,
       "version_minor": 0
      },
      "text/plain": [
       "Downloading:   0%|          | 0.00/446k [00:00<?, ?B/s]"
      ]
     },
     "metadata": {},
     "output_type": "display_data"
    }
   ],
   "source": [
    "summarizer = pipeline(\"summarization\")"
   ]
  },
  {
   "cell_type": "code",
   "execution_count": null,
   "metadata": {
    "id": "WbP-xqztgyze"
   },
   "outputs": [],
   "source": [
    "text_sum = summarizer(text, min_length=10, max_length=300)"
   ]
  },
  {
   "cell_type": "code",
   "execution_count": null,
   "metadata": {
    "id": "it2C005sgy9e"
   },
   "outputs": [],
   "source": [
    "summary_text = ' '.join([str(i) for i in text_sum])"
   ]
  },
  {
   "cell_type": "markdown",
   "metadata": {
    "id": "2IqUN4pHeq21"
   },
   "source": [
    "Final summary:"
   ]
  },
  {
   "cell_type": "code",
   "execution_count": null,
   "metadata": {
    "colab": {
     "base_uri": "https://localhost:8080/",
     "height": 72
    },
    "id": "F7O6l3uxds6N",
    "outputId": "fded71e0-69a2-4d2a-bd8c-3d1b335612e7"
   },
   "outputs": [
    {
     "data": {
      "application/vnd.google.colaboratory.intrinsic+json": {
       "type": "string"
      },
      "text/plain": [
       "\"{'summary_text': ' Scientists say they have made a major step forward in efforts to store information as molecules of DNA, which are more compact and long-lasting than other options . A team in Atlanta, US, has now developed a chip that they say could improve on existing forms of DNA storage by a factor of 100 . The technology works by growing unique strands of DNA one building block at a time .'}\""
      ]
     },
     "execution_count": 47,
     "metadata": {},
     "output_type": "execute_result"
    }
   ],
   "source": [
    "summary_text"
   ]
  },
  {
   "cell_type": "markdown",
   "metadata": {
    "id": "yz0HuIrnNXV9"
   },
   "source": [
    "#### 2. Text Summarization using BART model\n",
    "\n",
    "The BART(Bidirectional and Auto-Regressive Transformer) is a transformer that is now commonly used for sequence-to-sequence problems.  Its architecture uses a standard Seq2Seq bidirectional encoder (like BERT) and a left-to-right autoregressive decoder (like GPT) i.e. BART = BERT + GPT. BART is suitable for summarization, machine translation, question-answering, etc.\n",
    "\n",
    "First I have import the Bart pre-trained tokenizer and Bart pre-trained model for the summarization."
   ]
  },
  {
   "cell_type": "code",
   "execution_count": null,
   "metadata": {
    "colab": {
     "base_uri": "https://localhost:8080/",
     "height": 145,
     "referenced_widgets": [
      "ffab8b1f65294061aaae6051988623eb",
      "bd640f26c7b240e0b5b1585b7c410964",
      "272fef14e0ae439ba99757a028f39db1",
      "c6f866ea27b04ac1aea6cc59377550f5",
      "bf2cc3d07f8445418d71c01b9a75e92c",
      "8c61fba209f5474b96425eab4ec04651",
      "33834a30119a4a3da211fb5a03641a8a",
      "42b66b6bdd3d47c5b2562d2f2190967c",
      "408d0b5a94044e4caf49cb9399de7e8a",
      "aaed3c03c3f0452db63bd18d4075b84a",
      "54367e1e63d646489f522678b068cf28",
      "af905678d2cb4e5593e9329c8b426d05",
      "61b05c0c2c9a408cb0ce54830f0c915b",
      "4cfbb01125594f3d966f14b75dbdbe4b",
      "8504319972564619a41e2386774ea614",
      "633d3680baf14db595f5d90f2290f92c",
      "090bf62105b845f699bd4e163059e9c2",
      "b097d3512a07464fbdd4899ff5c00da8",
      "9a993ccf10fa485fbe65f7d192885298",
      "fb89948b0932430dacec0ad0fec838d8",
      "1013b1c246ac4f3796a11e9dcfd69589",
      "09bf03543d814a7f971e7fa261f24ffb",
      "c558fdb73c3846b5a83786c6bccd5114",
      "4c064b8630074e2c8f83a2afbb04898b",
      "c4f3efbddf6e4f8c80e9515e89120f36",
      "96f8b187d70e4dcd92630de250f1448b",
      "e98c85160d76428c940eb77283a4b01d",
      "42c99d751f65425aacc26446e8e15a1b",
      "8a1d837e53b646639f66f73aa63ef672",
      "e0b39a00c26642179a137ff0b0562b70",
      "9b90e0922511470b928d4678108dfabe",
      "46b3fd35039b4ac5b465831e865792ee",
      "14cc491a29814fb0b6c52c0e4fd538b8",
      "ba91a0eff7ee4de69b2ab72752c93d3b",
      "5b21a9c986a941e5b21f0b984c54b4b6",
      "099ddd001365441bae4452f34e46eb8f",
      "104c49b568d14080b82a278c40eeba5f",
      "bc4c5749a5674868951dcbb745c707ff",
      "ffb51c5ec46f4d4db12266f53ee16bcd",
      "927c2af7ef5447e284eba2b787a36dd4",
      "b423e0729d36468ebd004d3e1ae7bdc6",
      "35e21679e9de4a499b9bd71b14029e77",
      "4ea414c214364a12947806b7486023b6",
      "2c71ce45f0ce4970ac58a43b32a2d5e6"
     ]
    },
    "id": "s0hsk1cdNY2K",
    "outputId": "2300ae4d-d353-4c9b-c0fe-491149c8d253"
   },
   "outputs": [
    {
     "data": {
      "application/vnd.jupyter.widget-view+json": {
       "model_id": "ffab8b1f65294061aaae6051988623eb",
       "version_major": 2,
       "version_minor": 0
      },
      "text/plain": [
       "Downloading:   0%|          | 0.00/878k [00:00<?, ?B/s]"
      ]
     },
     "metadata": {},
     "output_type": "display_data"
    },
    {
     "data": {
      "application/vnd.jupyter.widget-view+json": {
       "model_id": "af905678d2cb4e5593e9329c8b426d05",
       "version_major": 2,
       "version_minor": 0
      },
      "text/plain": [
       "Downloading:   0%|          | 0.00/446k [00:00<?, ?B/s]"
      ]
     },
     "metadata": {},
     "output_type": "display_data"
    },
    {
     "data": {
      "application/vnd.jupyter.widget-view+json": {
       "model_id": "c558fdb73c3846b5a83786c6bccd5114",
       "version_major": 2,
       "version_minor": 0
      },
      "text/plain": [
       "Downloading:   0%|          | 0.00/1.55k [00:00<?, ?B/s]"
      ]
     },
     "metadata": {},
     "output_type": "display_data"
    },
    {
     "data": {
      "application/vnd.jupyter.widget-view+json": {
       "model_id": "ba91a0eff7ee4de69b2ab72752c93d3b",
       "version_major": 2,
       "version_minor": 0
      },
      "text/plain": [
       "Downloading:   0%|          | 0.00/1.51G [00:00<?, ?B/s]"
      ]
     },
     "metadata": {},
     "output_type": "display_data"
    }
   ],
   "source": [
    "tokenizer = BartTokenizer.from_pretrained('facebook/bart-large-cnn')\n",
    "model = BartForConditionalGeneration.from_pretrained('facebook/bart-large-cnn')"
   ]
  },
  {
   "cell_type": "markdown",
   "metadata": {
    "id": "c6XFrn9ZhDDj"
   },
   "source": [
    "Then I have encoded the text using the Bart Tokenizer and generated the output summarization using the Bart Summarization model."
   ]
  },
  {
   "cell_type": "code",
   "execution_count": null,
   "metadata": {
    "id": "m68yWP8liRkR"
   },
   "outputs": [],
   "source": [
    "input = tokenizer.encode(text, return_tensors=\"pt\", max_length=512)\n",
    "\n",
    "summary_ids = model.generate(input, max_length=160, min_length=12, length_penalty=1.0, num_beams=4, early_stopping=True)"
   ]
  },
  {
   "cell_type": "markdown",
   "metadata": {
    "id": "vbm-rkM-hyWZ"
   },
   "source": [
    "The outputs is a tensor. In order to get text out of it, it need to decode it using the same Bart Tokenizer model."
   ]
  },
  {
   "cell_type": "code",
   "execution_count": null,
   "metadata": {
    "id": "Vz3xs-BKLN5Z"
   },
   "outputs": [],
   "source": [
    "output_summ = [tokenizer.decode(g, skip_special_tokens=True, clean_up_tokenization_spaces=False) for g in summary_ids]"
   ]
  },
  {
   "cell_type": "markdown",
   "metadata": {
    "id": "N6pL_9Ioe_Nv"
   },
   "source": [
    "Final summary:"
   ]
  },
  {
   "cell_type": "code",
   "execution_count": null,
   "metadata": {
    "colab": {
     "base_uri": "https://localhost:8080/"
    },
    "id": "osuS9UsRL4cc",
    "outputId": "f2eaf802-17e9-4901-de15-98a3935e019b"
   },
   "outputs": [
    {
     "name": "stdout",
     "output_type": "stream",
     "text": [
      "['Scientists say they have made a major step forward in efforts to store information as molecules of DNA. The technology works by growing unique strands of DNA one building block at a time. The structures on the chip used to grow the DNA are called microwells.']\n"
     ]
    }
   ],
   "source": [
    "print(output_summ)"
   ]
  },
  {
   "cell_type": "markdown",
   "metadata": {
    "id": "-HzR4MyoxGoz"
   },
   "source": [
    "## Summary \n",
    "\n",
    "From the analysis one can see that the best summary I have achaived using abstractive methods such as BART model. The received short summary the best reflects the content of the studied article. The reading this summary one can easily understand what has been described within the article. \n",
    "In the ecstractive methods which I have studied I did not receive such good results as in the abstracive ones. In the first method based on word frequency I have achieved a pretty long summary of article however it can understand. By using the TFIDF vectorizer for summarization I have also obtained similar results as in the previous case. I have used automatic text summarization tools like a gensim library as well. By virtue few simple steps it got a summary with  quite good result. \n",
    "\n",
    "For text summarization problems one can also use LLMs models to get better results. These are complex AI models trained on huge datasets of text and code. They good at understanding and manipulating language making them perfect for tasks like text summarization."
   ]
  },
  {
   "cell_type": "code",
   "execution_count": null,
   "metadata": {
    "id": "AN_L6i7hCPAm"
   },
   "outputs": [],
   "source": []
  }
 ],
 "metadata": {
  "colab": {
   "authorship_tag": "ABX9TyOsZZCcrnoULN0r1z74DZy9",
   "collapsed_sections": [],
   "mount_file_id": "1Bm8_Pt7qy65KqaaHi-GkGu1jIU04ZbDQ",
   "name": "Text_summary.ipynb",
   "provenance": []
  },
  "kernelspec": {
   "display_name": "Python 3 (ipykernel)",
   "language": "python",
   "name": "python3"
  },
  "language_info": {
   "codemirror_mode": {
    "name": "ipython",
    "version": 3
   },
   "file_extension": ".py",
   "mimetype": "text/x-python",
   "name": "python",
   "nbconvert_exporter": "python",
   "pygments_lexer": "ipython3",
   "version": "3.12.4"
  },
  "widgets": {
   "application/vnd.jupyter.widget-state+json": {
    "00a47000e2924347b3df9fdc8ca16a2c": {
     "model_module": "@jupyter-widgets/controls",
     "model_module_version": "1.5.0",
     "model_name": "ProgressStyleModel",
     "state": {
      "_model_module": "@jupyter-widgets/controls",
      "_model_module_version": "1.5.0",
      "_model_name": "ProgressStyleModel",
      "_view_count": null,
      "_view_module": "@jupyter-widgets/base",
      "_view_module_version": "1.2.0",
      "_view_name": "StyleView",
      "bar_color": null,
      "description_width": ""
     }
    },
    "019d92a6077e4eabaec6cacde7ae2d9f": {
     "model_module": "@jupyter-widgets/controls",
     "model_module_version": "1.5.0",
     "model_name": "HBoxModel",
     "state": {
      "_dom_classes": [],
      "_model_module": "@jupyter-widgets/controls",
      "_model_module_version": "1.5.0",
      "_model_name": "HBoxModel",
      "_view_count": null,
      "_view_module": "@jupyter-widgets/controls",
      "_view_module_version": "1.5.0",
      "_view_name": "HBoxView",
      "box_style": "",
      "children": [
       "IPY_MODEL_1fc3de43b80043f3b2e6d98b70192914",
       "IPY_MODEL_63556ab2d29a4d82acd28b6730f6ee48",
       "IPY_MODEL_41f4ed393bc64abfa2983f48041ebf9c"
      ],
      "layout": "IPY_MODEL_b01e3a205fae4f98affca91e748bd181"
     }
    },
    "090bf62105b845f699bd4e163059e9c2": {
     "model_module": "@jupyter-widgets/base",
     "model_module_version": "1.2.0",
     "model_name": "LayoutModel",
     "state": {
      "_model_module": "@jupyter-widgets/base",
      "_model_module_version": "1.2.0",
      "_model_name": "LayoutModel",
      "_view_count": null,
      "_view_module": "@jupyter-widgets/base",
      "_view_module_version": "1.2.0",
      "_view_name": "LayoutView",
      "align_content": null,
      "align_items": null,
      "align_self": null,
      "border": null,
      "bottom": null,
      "display": null,
      "flex": null,
      "flex_flow": null,
      "grid_area": null,
      "grid_auto_columns": null,
      "grid_auto_flow": null,
      "grid_auto_rows": null,
      "grid_column": null,
      "grid_gap": null,
      "grid_row": null,
      "grid_template_areas": null,
      "grid_template_columns": null,
      "grid_template_rows": null,
      "height": null,
      "justify_content": null,
      "justify_items": null,
      "left": null,
      "margin": null,
      "max_height": null,
      "max_width": null,
      "min_height": null,
      "min_width": null,
      "object_fit": null,
      "object_position": null,
      "order": null,
      "overflow": null,
      "overflow_x": null,
      "overflow_y": null,
      "padding": null,
      "right": null,
      "top": null,
      "visibility": null,
      "width": null
     }
    },
    "099ddd001365441bae4452f34e46eb8f": {
     "model_module": "@jupyter-widgets/controls",
     "model_module_version": "1.5.0",
     "model_name": "FloatProgressModel",
     "state": {
      "_dom_classes": [],
      "_model_module": "@jupyter-widgets/controls",
      "_model_module_version": "1.5.0",
      "_model_name": "FloatProgressModel",
      "_view_count": null,
      "_view_module": "@jupyter-widgets/controls",
      "_view_module_version": "1.5.0",
      "_view_name": "ProgressView",
      "bar_style": "success",
      "description": "",
      "description_tooltip": null,
      "layout": "IPY_MODEL_b423e0729d36468ebd004d3e1ae7bdc6",
      "max": 1625270765,
      "min": 0,
      "orientation": "horizontal",
      "style": "IPY_MODEL_35e21679e9de4a499b9bd71b14029e77",
      "value": 1625270765
     }
    },
    "09bf03543d814a7f971e7fa261f24ffb": {
     "model_module": "@jupyter-widgets/controls",
     "model_module_version": "1.5.0",
     "model_name": "DescriptionStyleModel",
     "state": {
      "_model_module": "@jupyter-widgets/controls",
      "_model_module_version": "1.5.0",
      "_model_name": "DescriptionStyleModel",
      "_view_count": null,
      "_view_module": "@jupyter-widgets/base",
      "_view_module_version": "1.2.0",
      "_view_name": "StyleView",
      "description_width": ""
     }
    },
    "0e01504a366845a4b95f8a311aeaa9b6": {
     "model_module": "@jupyter-widgets/controls",
     "model_module_version": "1.5.0",
     "model_name": "DescriptionStyleModel",
     "state": {
      "_model_module": "@jupyter-widgets/controls",
      "_model_module_version": "1.5.0",
      "_model_name": "DescriptionStyleModel",
      "_view_count": null,
      "_view_module": "@jupyter-widgets/base",
      "_view_module_version": "1.2.0",
      "_view_name": "StyleView",
      "description_width": ""
     }
    },
    "1013b1c246ac4f3796a11e9dcfd69589": {
     "model_module": "@jupyter-widgets/base",
     "model_module_version": "1.2.0",
     "model_name": "LayoutModel",
     "state": {
      "_model_module": "@jupyter-widgets/base",
      "_model_module_version": "1.2.0",
      "_model_name": "LayoutModel",
      "_view_count": null,
      "_view_module": "@jupyter-widgets/base",
      "_view_module_version": "1.2.0",
      "_view_name": "LayoutView",
      "align_content": null,
      "align_items": null,
      "align_self": null,
      "border": null,
      "bottom": null,
      "display": null,
      "flex": null,
      "flex_flow": null,
      "grid_area": null,
      "grid_auto_columns": null,
      "grid_auto_flow": null,
      "grid_auto_rows": null,
      "grid_column": null,
      "grid_gap": null,
      "grid_row": null,
      "grid_template_areas": null,
      "grid_template_columns": null,
      "grid_template_rows": null,
      "height": null,
      "justify_content": null,
      "justify_items": null,
      "left": null,
      "margin": null,
      "max_height": null,
      "max_width": null,
      "min_height": null,
      "min_width": null,
      "object_fit": null,
      "object_position": null,
      "order": null,
      "overflow": null,
      "overflow_x": null,
      "overflow_y": null,
      "padding": null,
      "right": null,
      "top": null,
      "visibility": null,
      "width": null
     }
    },
    "104c49b568d14080b82a278c40eeba5f": {
     "model_module": "@jupyter-widgets/controls",
     "model_module_version": "1.5.0",
     "model_name": "HTMLModel",
     "state": {
      "_dom_classes": [],
      "_model_module": "@jupyter-widgets/controls",
      "_model_module_version": "1.5.0",
      "_model_name": "HTMLModel",
      "_view_count": null,
      "_view_module": "@jupyter-widgets/controls",
      "_view_module_version": "1.5.0",
      "_view_name": "HTMLView",
      "description": "",
      "description_tooltip": null,
      "layout": "IPY_MODEL_4ea414c214364a12947806b7486023b6",
      "placeholder": "​",
      "style": "IPY_MODEL_2c71ce45f0ce4970ac58a43b32a2d5e6",
      "value": " 1.51G/1.51G [01:24&lt;00:00, 11.2MB/s]"
     }
    },
    "12bb1d4a7a7d442b8b457723617a0ea5": {
     "model_module": "@jupyter-widgets/controls",
     "model_module_version": "1.5.0",
     "model_name": "DescriptionStyleModel",
     "state": {
      "_model_module": "@jupyter-widgets/controls",
      "_model_module_version": "1.5.0",
      "_model_name": "DescriptionStyleModel",
      "_view_count": null,
      "_view_module": "@jupyter-widgets/base",
      "_view_module_version": "1.2.0",
      "_view_name": "StyleView",
      "description_width": ""
     }
    },
    "14cc491a29814fb0b6c52c0e4fd538b8": {
     "model_module": "@jupyter-widgets/controls",
     "model_module_version": "1.5.0",
     "model_name": "DescriptionStyleModel",
     "state": {
      "_model_module": "@jupyter-widgets/controls",
      "_model_module_version": "1.5.0",
      "_model_name": "DescriptionStyleModel",
      "_view_count": null,
      "_view_module": "@jupyter-widgets/base",
      "_view_module_version": "1.2.0",
      "_view_name": "StyleView",
      "description_width": ""
     }
    },
    "152008f367444aa6a6e5bec1f1efb517": {
     "model_module": "@jupyter-widgets/controls",
     "model_module_version": "1.5.0",
     "model_name": "FloatProgressModel",
     "state": {
      "_dom_classes": [],
      "_model_module": "@jupyter-widgets/controls",
      "_model_module_version": "1.5.0",
      "_model_name": "FloatProgressModel",
      "_view_count": null,
      "_view_module": "@jupyter-widgets/controls",
      "_view_module_version": "1.5.0",
      "_view_name": "ProgressView",
      "bar_style": "success",
      "description": "",
      "description_tooltip": null,
      "layout": "IPY_MODEL_7960a67653e34eaa9bca9f344ac39c34",
      "max": 898822,
      "min": 0,
      "orientation": "horizontal",
      "style": "IPY_MODEL_5d942d9f1ac64b3e8fa072a40a396ce6",
      "value": 898822
     }
    },
    "176624de230b4a819462a1c7ea775959": {
     "model_module": "@jupyter-widgets/controls",
     "model_module_version": "1.5.0",
     "model_name": "DescriptionStyleModel",
     "state": {
      "_model_module": "@jupyter-widgets/controls",
      "_model_module_version": "1.5.0",
      "_model_name": "DescriptionStyleModel",
      "_view_count": null,
      "_view_module": "@jupyter-widgets/base",
      "_view_module_version": "1.2.0",
      "_view_name": "StyleView",
      "description_width": ""
     }
    },
    "19bc3d1ac74147a5bc05a13982908fdd": {
     "model_module": "@jupyter-widgets/controls",
     "model_module_version": "1.5.0",
     "model_name": "HTMLModel",
     "state": {
      "_dom_classes": [],
      "_model_module": "@jupyter-widgets/controls",
      "_model_module_version": "1.5.0",
      "_model_name": "HTMLModel",
      "_view_count": null,
      "_view_module": "@jupyter-widgets/controls",
      "_view_module_version": "1.5.0",
      "_view_name": "HTMLView",
      "description": "",
      "description_tooltip": null,
      "layout": "IPY_MODEL_4a0b51f7a8b448f6b60e80597d359224",
      "placeholder": "​",
      "style": "IPY_MODEL_5dc6487e68404b2d8fd409e71014eff8",
      "value": "Downloading: 100%"
     }
    },
    "1fc3de43b80043f3b2e6d98b70192914": {
     "model_module": "@jupyter-widgets/controls",
     "model_module_version": "1.5.0",
     "model_name": "HTMLModel",
     "state": {
      "_dom_classes": [],
      "_model_module": "@jupyter-widgets/controls",
      "_model_module_version": "1.5.0",
      "_model_name": "HTMLModel",
      "_view_count": null,
      "_view_module": "@jupyter-widgets/controls",
      "_view_module_version": "1.5.0",
      "_view_name": "HTMLView",
      "description": "",
      "description_tooltip": null,
      "layout": "IPY_MODEL_3047ec4d8e4e4f9a92a18a7be624f476",
      "placeholder": "​",
      "style": "IPY_MODEL_b155fcbe0e39402ea6255cdbbd7bccc1",
      "value": "Downloading: 100%"
     }
    },
    "260d249fcd9c4be2b2c7d816e95b9554": {
     "model_module": "@jupyter-widgets/base",
     "model_module_version": "1.2.0",
     "model_name": "LayoutModel",
     "state": {
      "_model_module": "@jupyter-widgets/base",
      "_model_module_version": "1.2.0",
      "_model_name": "LayoutModel",
      "_view_count": null,
      "_view_module": "@jupyter-widgets/base",
      "_view_module_version": "1.2.0",
      "_view_name": "LayoutView",
      "align_content": null,
      "align_items": null,
      "align_self": null,
      "border": null,
      "bottom": null,
      "display": null,
      "flex": null,
      "flex_flow": null,
      "grid_area": null,
      "grid_auto_columns": null,
      "grid_auto_flow": null,
      "grid_auto_rows": null,
      "grid_column": null,
      "grid_gap": null,
      "grid_row": null,
      "grid_template_areas": null,
      "grid_template_columns": null,
      "grid_template_rows": null,
      "height": null,
      "justify_content": null,
      "justify_items": null,
      "left": null,
      "margin": null,
      "max_height": null,
      "max_width": null,
      "min_height": null,
      "min_width": null,
      "object_fit": null,
      "object_position": null,
      "order": null,
      "overflow": null,
      "overflow_x": null,
      "overflow_y": null,
      "padding": null,
      "right": null,
      "top": null,
      "visibility": null,
      "width": null
     }
    },
    "26a1d6790ac64ef2853fcf620ef99e4e": {
     "model_module": "@jupyter-widgets/base",
     "model_module_version": "1.2.0",
     "model_name": "LayoutModel",
     "state": {
      "_model_module": "@jupyter-widgets/base",
      "_model_module_version": "1.2.0",
      "_model_name": "LayoutModel",
      "_view_count": null,
      "_view_module": "@jupyter-widgets/base",
      "_view_module_version": "1.2.0",
      "_view_name": "LayoutView",
      "align_content": null,
      "align_items": null,
      "align_self": null,
      "border": null,
      "bottom": null,
      "display": null,
      "flex": null,
      "flex_flow": null,
      "grid_area": null,
      "grid_auto_columns": null,
      "grid_auto_flow": null,
      "grid_auto_rows": null,
      "grid_column": null,
      "grid_gap": null,
      "grid_row": null,
      "grid_template_areas": null,
      "grid_template_columns": null,
      "grid_template_rows": null,
      "height": null,
      "justify_content": null,
      "justify_items": null,
      "left": null,
      "margin": null,
      "max_height": null,
      "max_width": null,
      "min_height": null,
      "min_width": null,
      "object_fit": null,
      "object_position": null,
      "order": null,
      "overflow": null,
      "overflow_x": null,
      "overflow_y": null,
      "padding": null,
      "right": null,
      "top": null,
      "visibility": null,
      "width": null
     }
    },
    "272fef14e0ae439ba99757a028f39db1": {
     "model_module": "@jupyter-widgets/controls",
     "model_module_version": "1.5.0",
     "model_name": "FloatProgressModel",
     "state": {
      "_dom_classes": [],
      "_model_module": "@jupyter-widgets/controls",
      "_model_module_version": "1.5.0",
      "_model_name": "FloatProgressModel",
      "_view_count": null,
      "_view_module": "@jupyter-widgets/controls",
      "_view_module_version": "1.5.0",
      "_view_name": "ProgressView",
      "bar_style": "success",
      "description": "",
      "description_tooltip": null,
      "layout": "IPY_MODEL_42b66b6bdd3d47c5b2562d2f2190967c",
      "max": 898823,
      "min": 0,
      "orientation": "horizontal",
      "style": "IPY_MODEL_408d0b5a94044e4caf49cb9399de7e8a",
      "value": 898823
     }
    },
    "2c71ce45f0ce4970ac58a43b32a2d5e6": {
     "model_module": "@jupyter-widgets/controls",
     "model_module_version": "1.5.0",
     "model_name": "DescriptionStyleModel",
     "state": {
      "_model_module": "@jupyter-widgets/controls",
      "_model_module_version": "1.5.0",
      "_model_name": "DescriptionStyleModel",
      "_view_count": null,
      "_view_module": "@jupyter-widgets/base",
      "_view_module_version": "1.2.0",
      "_view_name": "StyleView",
      "description_width": ""
     }
    },
    "3047ec4d8e4e4f9a92a18a7be624f476": {
     "model_module": "@jupyter-widgets/base",
     "model_module_version": "1.2.0",
     "model_name": "LayoutModel",
     "state": {
      "_model_module": "@jupyter-widgets/base",
      "_model_module_version": "1.2.0",
      "_model_name": "LayoutModel",
      "_view_count": null,
      "_view_module": "@jupyter-widgets/base",
      "_view_module_version": "1.2.0",
      "_view_name": "LayoutView",
      "align_content": null,
      "align_items": null,
      "align_self": null,
      "border": null,
      "bottom": null,
      "display": null,
      "flex": null,
      "flex_flow": null,
      "grid_area": null,
      "grid_auto_columns": null,
      "grid_auto_flow": null,
      "grid_auto_rows": null,
      "grid_column": null,
      "grid_gap": null,
      "grid_row": null,
      "grid_template_areas": null,
      "grid_template_columns": null,
      "grid_template_rows": null,
      "height": null,
      "justify_content": null,
      "justify_items": null,
      "left": null,
      "margin": null,
      "max_height": null,
      "max_width": null,
      "min_height": null,
      "min_width": null,
      "object_fit": null,
      "object_position": null,
      "order": null,
      "overflow": null,
      "overflow_x": null,
      "overflow_y": null,
      "padding": null,
      "right": null,
      "top": null,
      "visibility": null,
      "width": null
     }
    },
    "31ebe59528ee4fb688c55b0de2d57c43": {
     "model_module": "@jupyter-widgets/controls",
     "model_module_version": "1.5.0",
     "model_name": "HBoxModel",
     "state": {
      "_dom_classes": [],
      "_model_module": "@jupyter-widgets/controls",
      "_model_module_version": "1.5.0",
      "_model_name": "HBoxModel",
      "_view_count": null,
      "_view_module": "@jupyter-widgets/controls",
      "_view_module_version": "1.5.0",
      "_view_name": "HBoxView",
      "box_style": "",
      "children": [
       "IPY_MODEL_4f31bbbd39d1489e967f6da4d699f098",
       "IPY_MODEL_152008f367444aa6a6e5bec1f1efb517",
       "IPY_MODEL_5fa8625dc26d44bd9d2a6c0c9f564420"
      ],
      "layout": "IPY_MODEL_3d0e1debb80d4500a047c3d13a68b2fa"
     }
    },
    "33834a30119a4a3da211fb5a03641a8a": {
     "model_module": "@jupyter-widgets/controls",
     "model_module_version": "1.5.0",
     "model_name": "DescriptionStyleModel",
     "state": {
      "_model_module": "@jupyter-widgets/controls",
      "_model_module_version": "1.5.0",
      "_model_name": "DescriptionStyleModel",
      "_view_count": null,
      "_view_module": "@jupyter-widgets/base",
      "_view_module_version": "1.2.0",
      "_view_name": "StyleView",
      "description_width": ""
     }
    },
    "33a24bfea88443219e8c0356a88c376a": {
     "model_module": "@jupyter-widgets/controls",
     "model_module_version": "1.5.0",
     "model_name": "HTMLModel",
     "state": {
      "_dom_classes": [],
      "_model_module": "@jupyter-widgets/controls",
      "_model_module_version": "1.5.0",
      "_model_name": "HTMLModel",
      "_view_count": null,
      "_view_module": "@jupyter-widgets/controls",
      "_view_module_version": "1.5.0",
      "_view_name": "HTMLView",
      "description": "",
      "description_tooltip": null,
      "layout": "IPY_MODEL_3f3724b222b74e2bb8ffc9332727c65b",
      "placeholder": "​",
      "style": "IPY_MODEL_de7bd7bd1bba462fa728d51fca74fb17",
      "value": " 446k/446k [00:00&lt;00:00, 962kB/s]"
     }
    },
    "35be273cb14d4cf59dcd2424ee932dd0": {
     "model_module": "@jupyter-widgets/base",
     "model_module_version": "1.2.0",
     "model_name": "LayoutModel",
     "state": {
      "_model_module": "@jupyter-widgets/base",
      "_model_module_version": "1.2.0",
      "_model_name": "LayoutModel",
      "_view_count": null,
      "_view_module": "@jupyter-widgets/base",
      "_view_module_version": "1.2.0",
      "_view_name": "LayoutView",
      "align_content": null,
      "align_items": null,
      "align_self": null,
      "border": null,
      "bottom": null,
      "display": null,
      "flex": null,
      "flex_flow": null,
      "grid_area": null,
      "grid_auto_columns": null,
      "grid_auto_flow": null,
      "grid_auto_rows": null,
      "grid_column": null,
      "grid_gap": null,
      "grid_row": null,
      "grid_template_areas": null,
      "grid_template_columns": null,
      "grid_template_rows": null,
      "height": null,
      "justify_content": null,
      "justify_items": null,
      "left": null,
      "margin": null,
      "max_height": null,
      "max_width": null,
      "min_height": null,
      "min_width": null,
      "object_fit": null,
      "object_position": null,
      "order": null,
      "overflow": null,
      "overflow_x": null,
      "overflow_y": null,
      "padding": null,
      "right": null,
      "top": null,
      "visibility": null,
      "width": null
     }
    },
    "35e21679e9de4a499b9bd71b14029e77": {
     "model_module": "@jupyter-widgets/controls",
     "model_module_version": "1.5.0",
     "model_name": "ProgressStyleModel",
     "state": {
      "_model_module": "@jupyter-widgets/controls",
      "_model_module_version": "1.5.0",
      "_model_name": "ProgressStyleModel",
      "_view_count": null,
      "_view_module": "@jupyter-widgets/base",
      "_view_module_version": "1.2.0",
      "_view_name": "StyleView",
      "bar_color": null,
      "description_width": ""
     }
    },
    "3d0e1debb80d4500a047c3d13a68b2fa": {
     "model_module": "@jupyter-widgets/base",
     "model_module_version": "1.2.0",
     "model_name": "LayoutModel",
     "state": {
      "_model_module": "@jupyter-widgets/base",
      "_model_module_version": "1.2.0",
      "_model_name": "LayoutModel",
      "_view_count": null,
      "_view_module": "@jupyter-widgets/base",
      "_view_module_version": "1.2.0",
      "_view_name": "LayoutView",
      "align_content": null,
      "align_items": null,
      "align_self": null,
      "border": null,
      "bottom": null,
      "display": null,
      "flex": null,
      "flex_flow": null,
      "grid_area": null,
      "grid_auto_columns": null,
      "grid_auto_flow": null,
      "grid_auto_rows": null,
      "grid_column": null,
      "grid_gap": null,
      "grid_row": null,
      "grid_template_areas": null,
      "grid_template_columns": null,
      "grid_template_rows": null,
      "height": null,
      "justify_content": null,
      "justify_items": null,
      "left": null,
      "margin": null,
      "max_height": null,
      "max_width": null,
      "min_height": null,
      "min_width": null,
      "object_fit": null,
      "object_position": null,
      "order": null,
      "overflow": null,
      "overflow_x": null,
      "overflow_y": null,
      "padding": null,
      "right": null,
      "top": null,
      "visibility": null,
      "width": null
     }
    },
    "3f3724b222b74e2bb8ffc9332727c65b": {
     "model_module": "@jupyter-widgets/base",
     "model_module_version": "1.2.0",
     "model_name": "LayoutModel",
     "state": {
      "_model_module": "@jupyter-widgets/base",
      "_model_module_version": "1.2.0",
      "_model_name": "LayoutModel",
      "_view_count": null,
      "_view_module": "@jupyter-widgets/base",
      "_view_module_version": "1.2.0",
      "_view_name": "LayoutView",
      "align_content": null,
      "align_items": null,
      "align_self": null,
      "border": null,
      "bottom": null,
      "display": null,
      "flex": null,
      "flex_flow": null,
      "grid_area": null,
      "grid_auto_columns": null,
      "grid_auto_flow": null,
      "grid_auto_rows": null,
      "grid_column": null,
      "grid_gap": null,
      "grid_row": null,
      "grid_template_areas": null,
      "grid_template_columns": null,
      "grid_template_rows": null,
      "height": null,
      "justify_content": null,
      "justify_items": null,
      "left": null,
      "margin": null,
      "max_height": null,
      "max_width": null,
      "min_height": null,
      "min_width": null,
      "object_fit": null,
      "object_position": null,
      "order": null,
      "overflow": null,
      "overflow_x": null,
      "overflow_y": null,
      "padding": null,
      "right": null,
      "top": null,
      "visibility": null,
      "width": null
     }
    },
    "408d0b5a94044e4caf49cb9399de7e8a": {
     "model_module": "@jupyter-widgets/controls",
     "model_module_version": "1.5.0",
     "model_name": "ProgressStyleModel",
     "state": {
      "_model_module": "@jupyter-widgets/controls",
      "_model_module_version": "1.5.0",
      "_model_name": "ProgressStyleModel",
      "_view_count": null,
      "_view_module": "@jupyter-widgets/base",
      "_view_module_version": "1.2.0",
      "_view_name": "StyleView",
      "bar_color": null,
      "description_width": ""
     }
    },
    "41f4ed393bc64abfa2983f48041ebf9c": {
     "model_module": "@jupyter-widgets/controls",
     "model_module_version": "1.5.0",
     "model_name": "HTMLModel",
     "state": {
      "_dom_classes": [],
      "_model_module": "@jupyter-widgets/controls",
      "_model_module_version": "1.5.0",
      "_model_name": "HTMLModel",
      "_view_count": null,
      "_view_module": "@jupyter-widgets/controls",
      "_view_module_version": "1.5.0",
      "_view_name": "HTMLView",
      "description": "",
      "description_tooltip": null,
      "layout": "IPY_MODEL_35be273cb14d4cf59dcd2424ee932dd0",
      "placeholder": "​",
      "style": "IPY_MODEL_176624de230b4a819462a1c7ea775959",
      "value": " 1.14G/1.14G [00:49&lt;00:00, 27.2MB/s]"
     }
    },
    "42b66b6bdd3d47c5b2562d2f2190967c": {
     "model_module": "@jupyter-widgets/base",
     "model_module_version": "1.2.0",
     "model_name": "LayoutModel",
     "state": {
      "_model_module": "@jupyter-widgets/base",
      "_model_module_version": "1.2.0",
      "_model_name": "LayoutModel",
      "_view_count": null,
      "_view_module": "@jupyter-widgets/base",
      "_view_module_version": "1.2.0",
      "_view_name": "LayoutView",
      "align_content": null,
      "align_items": null,
      "align_self": null,
      "border": null,
      "bottom": null,
      "display": null,
      "flex": null,
      "flex_flow": null,
      "grid_area": null,
      "grid_auto_columns": null,
      "grid_auto_flow": null,
      "grid_auto_rows": null,
      "grid_column": null,
      "grid_gap": null,
      "grid_row": null,
      "grid_template_areas": null,
      "grid_template_columns": null,
      "grid_template_rows": null,
      "height": null,
      "justify_content": null,
      "justify_items": null,
      "left": null,
      "margin": null,
      "max_height": null,
      "max_width": null,
      "min_height": null,
      "min_width": null,
      "object_fit": null,
      "object_position": null,
      "order": null,
      "overflow": null,
      "overflow_x": null,
      "overflow_y": null,
      "padding": null,
      "right": null,
      "top": null,
      "visibility": null,
      "width": null
     }
    },
    "42c99d751f65425aacc26446e8e15a1b": {
     "model_module": "@jupyter-widgets/base",
     "model_module_version": "1.2.0",
     "model_name": "LayoutModel",
     "state": {
      "_model_module": "@jupyter-widgets/base",
      "_model_module_version": "1.2.0",
      "_model_name": "LayoutModel",
      "_view_count": null,
      "_view_module": "@jupyter-widgets/base",
      "_view_module_version": "1.2.0",
      "_view_name": "LayoutView",
      "align_content": null,
      "align_items": null,
      "align_self": null,
      "border": null,
      "bottom": null,
      "display": null,
      "flex": null,
      "flex_flow": null,
      "grid_area": null,
      "grid_auto_columns": null,
      "grid_auto_flow": null,
      "grid_auto_rows": null,
      "grid_column": null,
      "grid_gap": null,
      "grid_row": null,
      "grid_template_areas": null,
      "grid_template_columns": null,
      "grid_template_rows": null,
      "height": null,
      "justify_content": null,
      "justify_items": null,
      "left": null,
      "margin": null,
      "max_height": null,
      "max_width": null,
      "min_height": null,
      "min_width": null,
      "object_fit": null,
      "object_position": null,
      "order": null,
      "overflow": null,
      "overflow_x": null,
      "overflow_y": null,
      "padding": null,
      "right": null,
      "top": null,
      "visibility": null,
      "width": null
     }
    },
    "46b3fd35039b4ac5b465831e865792ee": {
     "model_module": "@jupyter-widgets/base",
     "model_module_version": "1.2.0",
     "model_name": "LayoutModel",
     "state": {
      "_model_module": "@jupyter-widgets/base",
      "_model_module_version": "1.2.0",
      "_model_name": "LayoutModel",
      "_view_count": null,
      "_view_module": "@jupyter-widgets/base",
      "_view_module_version": "1.2.0",
      "_view_name": "LayoutView",
      "align_content": null,
      "align_items": null,
      "align_self": null,
      "border": null,
      "bottom": null,
      "display": null,
      "flex": null,
      "flex_flow": null,
      "grid_area": null,
      "grid_auto_columns": null,
      "grid_auto_flow": null,
      "grid_auto_rows": null,
      "grid_column": null,
      "grid_gap": null,
      "grid_row": null,
      "grid_template_areas": null,
      "grid_template_columns": null,
      "grid_template_rows": null,
      "height": null,
      "justify_content": null,
      "justify_items": null,
      "left": null,
      "margin": null,
      "max_height": null,
      "max_width": null,
      "min_height": null,
      "min_width": null,
      "object_fit": null,
      "object_position": null,
      "order": null,
      "overflow": null,
      "overflow_x": null,
      "overflow_y": null,
      "padding": null,
      "right": null,
      "top": null,
      "visibility": null,
      "width": null
     }
    },
    "46e0491b38d44e2fb233597cf82d3df0": {
     "model_module": "@jupyter-widgets/base",
     "model_module_version": "1.2.0",
     "model_name": "LayoutModel",
     "state": {
      "_model_module": "@jupyter-widgets/base",
      "_model_module_version": "1.2.0",
      "_model_name": "LayoutModel",
      "_view_count": null,
      "_view_module": "@jupyter-widgets/base",
      "_view_module_version": "1.2.0",
      "_view_name": "LayoutView",
      "align_content": null,
      "align_items": null,
      "align_self": null,
      "border": null,
      "bottom": null,
      "display": null,
      "flex": null,
      "flex_flow": null,
      "grid_area": null,
      "grid_auto_columns": null,
      "grid_auto_flow": null,
      "grid_auto_rows": null,
      "grid_column": null,
      "grid_gap": null,
      "grid_row": null,
      "grid_template_areas": null,
      "grid_template_columns": null,
      "grid_template_rows": null,
      "height": null,
      "justify_content": null,
      "justify_items": null,
      "left": null,
      "margin": null,
      "max_height": null,
      "max_width": null,
      "min_height": null,
      "min_width": null,
      "object_fit": null,
      "object_position": null,
      "order": null,
      "overflow": null,
      "overflow_x": null,
      "overflow_y": null,
      "padding": null,
      "right": null,
      "top": null,
      "visibility": null,
      "width": null
     }
    },
    "4a0b51f7a8b448f6b60e80597d359224": {
     "model_module": "@jupyter-widgets/base",
     "model_module_version": "1.2.0",
     "model_name": "LayoutModel",
     "state": {
      "_model_module": "@jupyter-widgets/base",
      "_model_module_version": "1.2.0",
      "_model_name": "LayoutModel",
      "_view_count": null,
      "_view_module": "@jupyter-widgets/base",
      "_view_module_version": "1.2.0",
      "_view_name": "LayoutView",
      "align_content": null,
      "align_items": null,
      "align_self": null,
      "border": null,
      "bottom": null,
      "display": null,
      "flex": null,
      "flex_flow": null,
      "grid_area": null,
      "grid_auto_columns": null,
      "grid_auto_flow": null,
      "grid_auto_rows": null,
      "grid_column": null,
      "grid_gap": null,
      "grid_row": null,
      "grid_template_areas": null,
      "grid_template_columns": null,
      "grid_template_rows": null,
      "height": null,
      "justify_content": null,
      "justify_items": null,
      "left": null,
      "margin": null,
      "max_height": null,
      "max_width": null,
      "min_height": null,
      "min_width": null,
      "object_fit": null,
      "object_position": null,
      "order": null,
      "overflow": null,
      "overflow_x": null,
      "overflow_y": null,
      "padding": null,
      "right": null,
      "top": null,
      "visibility": null,
      "width": null
     }
    },
    "4c064b8630074e2c8f83a2afbb04898b": {
     "model_module": "@jupyter-widgets/controls",
     "model_module_version": "1.5.0",
     "model_name": "HTMLModel",
     "state": {
      "_dom_classes": [],
      "_model_module": "@jupyter-widgets/controls",
      "_model_module_version": "1.5.0",
      "_model_name": "HTMLModel",
      "_view_count": null,
      "_view_module": "@jupyter-widgets/controls",
      "_view_module_version": "1.5.0",
      "_view_name": "HTMLView",
      "description": "",
      "description_tooltip": null,
      "layout": "IPY_MODEL_42c99d751f65425aacc26446e8e15a1b",
      "placeholder": "​",
      "style": "IPY_MODEL_8a1d837e53b646639f66f73aa63ef672",
      "value": "Downloading: 100%"
     }
    },
    "4c78a38b836e495b97e08750d386b4ba": {
     "model_module": "@jupyter-widgets/base",
     "model_module_version": "1.2.0",
     "model_name": "LayoutModel",
     "state": {
      "_model_module": "@jupyter-widgets/base",
      "_model_module_version": "1.2.0",
      "_model_name": "LayoutModel",
      "_view_count": null,
      "_view_module": "@jupyter-widgets/base",
      "_view_module_version": "1.2.0",
      "_view_name": "LayoutView",
      "align_content": null,
      "align_items": null,
      "align_self": null,
      "border": null,
      "bottom": null,
      "display": null,
      "flex": null,
      "flex_flow": null,
      "grid_area": null,
      "grid_auto_columns": null,
      "grid_auto_flow": null,
      "grid_auto_rows": null,
      "grid_column": null,
      "grid_gap": null,
      "grid_row": null,
      "grid_template_areas": null,
      "grid_template_columns": null,
      "grid_template_rows": null,
      "height": null,
      "justify_content": null,
      "justify_items": null,
      "left": null,
      "margin": null,
      "max_height": null,
      "max_width": null,
      "min_height": null,
      "min_width": null,
      "object_fit": null,
      "object_position": null,
      "order": null,
      "overflow": null,
      "overflow_x": null,
      "overflow_y": null,
      "padding": null,
      "right": null,
      "top": null,
      "visibility": null,
      "width": null
     }
    },
    "4cfbb01125594f3d966f14b75dbdbe4b": {
     "model_module": "@jupyter-widgets/controls",
     "model_module_version": "1.5.0",
     "model_name": "FloatProgressModel",
     "state": {
      "_dom_classes": [],
      "_model_module": "@jupyter-widgets/controls",
      "_model_module_version": "1.5.0",
      "_model_name": "FloatProgressModel",
      "_view_count": null,
      "_view_module": "@jupyter-widgets/controls",
      "_view_module_version": "1.5.0",
      "_view_name": "ProgressView",
      "bar_style": "success",
      "description": "",
      "description_tooltip": null,
      "layout": "IPY_MODEL_9a993ccf10fa485fbe65f7d192885298",
      "max": 456318,
      "min": 0,
      "orientation": "horizontal",
      "style": "IPY_MODEL_fb89948b0932430dacec0ad0fec838d8",
      "value": 456318
     }
    },
    "4ea414c214364a12947806b7486023b6": {
     "model_module": "@jupyter-widgets/base",
     "model_module_version": "1.2.0",
     "model_name": "LayoutModel",
     "state": {
      "_model_module": "@jupyter-widgets/base",
      "_model_module_version": "1.2.0",
      "_model_name": "LayoutModel",
      "_view_count": null,
      "_view_module": "@jupyter-widgets/base",
      "_view_module_version": "1.2.0",
      "_view_name": "LayoutView",
      "align_content": null,
      "align_items": null,
      "align_self": null,
      "border": null,
      "bottom": null,
      "display": null,
      "flex": null,
      "flex_flow": null,
      "grid_area": null,
      "grid_auto_columns": null,
      "grid_auto_flow": null,
      "grid_auto_rows": null,
      "grid_column": null,
      "grid_gap": null,
      "grid_row": null,
      "grid_template_areas": null,
      "grid_template_columns": null,
      "grid_template_rows": null,
      "height": null,
      "justify_content": null,
      "justify_items": null,
      "left": null,
      "margin": null,
      "max_height": null,
      "max_width": null,
      "min_height": null,
      "min_width": null,
      "object_fit": null,
      "object_position": null,
      "order": null,
      "overflow": null,
      "overflow_x": null,
      "overflow_y": null,
      "padding": null,
      "right": null,
      "top": null,
      "visibility": null,
      "width": null
     }
    },
    "4f31bbbd39d1489e967f6da4d699f098": {
     "model_module": "@jupyter-widgets/controls",
     "model_module_version": "1.5.0",
     "model_name": "HTMLModel",
     "state": {
      "_dom_classes": [],
      "_model_module": "@jupyter-widgets/controls",
      "_model_module_version": "1.5.0",
      "_model_name": "HTMLModel",
      "_view_count": null,
      "_view_module": "@jupyter-widgets/controls",
      "_view_module_version": "1.5.0",
      "_view_name": "HTMLView",
      "description": "",
      "description_tooltip": null,
      "layout": "IPY_MODEL_89a40c6ab206469aaaaf33dc72f1de35",
      "placeholder": "​",
      "style": "IPY_MODEL_12bb1d4a7a7d442b8b457723617a0ea5",
      "value": "Downloading: 100%"
     }
    },
    "52df43e750f340d2b93fbe6742e90a85": {
     "model_module": "@jupyter-widgets/controls",
     "model_module_version": "1.5.0",
     "model_name": "FloatProgressModel",
     "state": {
      "_dom_classes": [],
      "_model_module": "@jupyter-widgets/controls",
      "_model_module_version": "1.5.0",
      "_model_name": "FloatProgressModel",
      "_view_count": null,
      "_view_module": "@jupyter-widgets/controls",
      "_view_module_version": "1.5.0",
      "_view_name": "ProgressView",
      "bar_style": "success",
      "description": "",
      "description_tooltip": null,
      "layout": "IPY_MODEL_aceaf563bcd646a8b167c33449d9b03f",
      "max": 26,
      "min": 0,
      "orientation": "horizontal",
      "style": "IPY_MODEL_5f8585db010f4f4e94cf36bbdcbf63f8",
      "value": 26
     }
    },
    "54367e1e63d646489f522678b068cf28": {
     "model_module": "@jupyter-widgets/controls",
     "model_module_version": "1.5.0",
     "model_name": "DescriptionStyleModel",
     "state": {
      "_model_module": "@jupyter-widgets/controls",
      "_model_module_version": "1.5.0",
      "_model_name": "DescriptionStyleModel",
      "_view_count": null,
      "_view_module": "@jupyter-widgets/base",
      "_view_module_version": "1.2.0",
      "_view_name": "StyleView",
      "description_width": ""
     }
    },
    "5b21a9c986a941e5b21f0b984c54b4b6": {
     "model_module": "@jupyter-widgets/controls",
     "model_module_version": "1.5.0",
     "model_name": "HTMLModel",
     "state": {
      "_dom_classes": [],
      "_model_module": "@jupyter-widgets/controls",
      "_model_module_version": "1.5.0",
      "_model_name": "HTMLModel",
      "_view_count": null,
      "_view_module": "@jupyter-widgets/controls",
      "_view_module_version": "1.5.0",
      "_view_name": "HTMLView",
      "description": "",
      "description_tooltip": null,
      "layout": "IPY_MODEL_ffb51c5ec46f4d4db12266f53ee16bcd",
      "placeholder": "​",
      "style": "IPY_MODEL_927c2af7ef5447e284eba2b787a36dd4",
      "value": "Downloading: 100%"
     }
    },
    "5bb1a5c391d148bda083c73f677fc560": {
     "model_module": "@jupyter-widgets/controls",
     "model_module_version": "1.5.0",
     "model_name": "HTMLModel",
     "state": {
      "_dom_classes": [],
      "_model_module": "@jupyter-widgets/controls",
      "_model_module_version": "1.5.0",
      "_model_name": "HTMLModel",
      "_view_count": null,
      "_view_module": "@jupyter-widgets/controls",
      "_view_module_version": "1.5.0",
      "_view_name": "HTMLView",
      "description": "",
      "description_tooltip": null,
      "layout": "IPY_MODEL_46e0491b38d44e2fb233597cf82d3df0",
      "placeholder": "​",
      "style": "IPY_MODEL_bb8b8de2dfd844478be7c0519e0ffadc",
      "value": " 26.0/26.0 [00:00&lt;00:00, 360B/s]"
     }
    },
    "5d942d9f1ac64b3e8fa072a40a396ce6": {
     "model_module": "@jupyter-widgets/controls",
     "model_module_version": "1.5.0",
     "model_name": "ProgressStyleModel",
     "state": {
      "_model_module": "@jupyter-widgets/controls",
      "_model_module_version": "1.5.0",
      "_model_name": "ProgressStyleModel",
      "_view_count": null,
      "_view_module": "@jupyter-widgets/base",
      "_view_module_version": "1.2.0",
      "_view_name": "StyleView",
      "bar_color": null,
      "description_width": ""
     }
    },
    "5dc6487e68404b2d8fd409e71014eff8": {
     "model_module": "@jupyter-widgets/controls",
     "model_module_version": "1.5.0",
     "model_name": "DescriptionStyleModel",
     "state": {
      "_model_module": "@jupyter-widgets/controls",
      "_model_module_version": "1.5.0",
      "_model_name": "DescriptionStyleModel",
      "_view_count": null,
      "_view_module": "@jupyter-widgets/base",
      "_view_module_version": "1.2.0",
      "_view_name": "StyleView",
      "description_width": ""
     }
    },
    "5f8585db010f4f4e94cf36bbdcbf63f8": {
     "model_module": "@jupyter-widgets/controls",
     "model_module_version": "1.5.0",
     "model_name": "ProgressStyleModel",
     "state": {
      "_model_module": "@jupyter-widgets/controls",
      "_model_module_version": "1.5.0",
      "_model_name": "ProgressStyleModel",
      "_view_count": null,
      "_view_module": "@jupyter-widgets/base",
      "_view_module_version": "1.2.0",
      "_view_name": "StyleView",
      "bar_color": null,
      "description_width": ""
     }
    },
    "5fa8625dc26d44bd9d2a6c0c9f564420": {
     "model_module": "@jupyter-widgets/controls",
     "model_module_version": "1.5.0",
     "model_name": "HTMLModel",
     "state": {
      "_dom_classes": [],
      "_model_module": "@jupyter-widgets/controls",
      "_model_module_version": "1.5.0",
      "_model_name": "HTMLModel",
      "_view_count": null,
      "_view_module": "@jupyter-widgets/controls",
      "_view_module_version": "1.5.0",
      "_view_name": "HTMLView",
      "description": "",
      "description_tooltip": null,
      "layout": "IPY_MODEL_cbc65cb2ab004c258178751b518547d8",
      "placeholder": "​",
      "style": "IPY_MODEL_e45e563cd44d4523865cc1f21abc8000",
      "value": " 878k/878k [00:00&lt;00:00, 1.11MB/s]"
     }
    },
    "61b05c0c2c9a408cb0ce54830f0c915b": {
     "model_module": "@jupyter-widgets/controls",
     "model_module_version": "1.5.0",
     "model_name": "HTMLModel",
     "state": {
      "_dom_classes": [],
      "_model_module": "@jupyter-widgets/controls",
      "_model_module_version": "1.5.0",
      "_model_name": "HTMLModel",
      "_view_count": null,
      "_view_module": "@jupyter-widgets/controls",
      "_view_module_version": "1.5.0",
      "_view_name": "HTMLView",
      "description": "",
      "description_tooltip": null,
      "layout": "IPY_MODEL_090bf62105b845f699bd4e163059e9c2",
      "placeholder": "​",
      "style": "IPY_MODEL_b097d3512a07464fbdd4899ff5c00da8",
      "value": "Downloading: 100%"
     }
    },
    "633d3680baf14db595f5d90f2290f92c": {
     "model_module": "@jupyter-widgets/base",
     "model_module_version": "1.2.0",
     "model_name": "LayoutModel",
     "state": {
      "_model_module": "@jupyter-widgets/base",
      "_model_module_version": "1.2.0",
      "_model_name": "LayoutModel",
      "_view_count": null,
      "_view_module": "@jupyter-widgets/base",
      "_view_module_version": "1.2.0",
      "_view_name": "LayoutView",
      "align_content": null,
      "align_items": null,
      "align_self": null,
      "border": null,
      "bottom": null,
      "display": null,
      "flex": null,
      "flex_flow": null,
      "grid_area": null,
      "grid_auto_columns": null,
      "grid_auto_flow": null,
      "grid_auto_rows": null,
      "grid_column": null,
      "grid_gap": null,
      "grid_row": null,
      "grid_template_areas": null,
      "grid_template_columns": null,
      "grid_template_rows": null,
      "height": null,
      "justify_content": null,
      "justify_items": null,
      "left": null,
      "margin": null,
      "max_height": null,
      "max_width": null,
      "min_height": null,
      "min_width": null,
      "object_fit": null,
      "object_position": null,
      "order": null,
      "overflow": null,
      "overflow_x": null,
      "overflow_y": null,
      "padding": null,
      "right": null,
      "top": null,
      "visibility": null,
      "width": null
     }
    },
    "63556ab2d29a4d82acd28b6730f6ee48": {
     "model_module": "@jupyter-widgets/controls",
     "model_module_version": "1.5.0",
     "model_name": "FloatProgressModel",
     "state": {
      "_dom_classes": [],
      "_model_module": "@jupyter-widgets/controls",
      "_model_module_version": "1.5.0",
      "_model_name": "FloatProgressModel",
      "_view_count": null,
      "_view_module": "@jupyter-widgets/controls",
      "_view_module_version": "1.5.0",
      "_view_name": "ProgressView",
      "bar_style": "success",
      "description": "",
      "description_tooltip": null,
      "layout": "IPY_MODEL_d715f6117ece4574aabce18d49349126",
      "max": 1222317369,
      "min": 0,
      "orientation": "horizontal",
      "style": "IPY_MODEL_de856f033a2749b9b1f9a457f239ecf8",
      "value": 1222317369
     }
    },
    "66c85d8cba4c43a49c1e53b7b398387e": {
     "model_module": "@jupyter-widgets/controls",
     "model_module_version": "1.5.0",
     "model_name": "FloatProgressModel",
     "state": {
      "_dom_classes": [],
      "_model_module": "@jupyter-widgets/controls",
      "_model_module_version": "1.5.0",
      "_model_name": "FloatProgressModel",
      "_view_count": null,
      "_view_module": "@jupyter-widgets/controls",
      "_view_module_version": "1.5.0",
      "_view_name": "ProgressView",
      "bar_style": "success",
      "description": "",
      "description_tooltip": null,
      "layout": "IPY_MODEL_fe19b9539bad4e1aaca640fe7fbd3cf6",
      "max": 456318,
      "min": 0,
      "orientation": "horizontal",
      "style": "IPY_MODEL_e62abaf2a91540539ce51a515d985289",
      "value": 456318
     }
    },
    "6d45ac047dd74c4c9934c47722c71a11": {
     "model_module": "@jupyter-widgets/controls",
     "model_module_version": "1.5.0",
     "model_name": "HTMLModel",
     "state": {
      "_dom_classes": [],
      "_model_module": "@jupyter-widgets/controls",
      "_model_module_version": "1.5.0",
      "_model_name": "HTMLModel",
      "_view_count": null,
      "_view_module": "@jupyter-widgets/controls",
      "_view_module_version": "1.5.0",
      "_view_name": "HTMLView",
      "description": "",
      "description_tooltip": null,
      "layout": "IPY_MODEL_b406cb4d76fd45d4bf253d6701289233",
      "placeholder": "​",
      "style": "IPY_MODEL_c3b142450a8743a9975dd4246131e4cc",
      "value": " 1.76k/1.76k [00:00&lt;00:00, 42.4kB/s]"
     }
    },
    "6e92fa69ed9d45be997155df9c218645": {
     "model_module": "@jupyter-widgets/controls",
     "model_module_version": "1.5.0",
     "model_name": "HTMLModel",
     "state": {
      "_dom_classes": [],
      "_model_module": "@jupyter-widgets/controls",
      "_model_module_version": "1.5.0",
      "_model_name": "HTMLModel",
      "_view_count": null,
      "_view_module": "@jupyter-widgets/controls",
      "_view_module_version": "1.5.0",
      "_view_name": "HTMLView",
      "description": "",
      "description_tooltip": null,
      "layout": "IPY_MODEL_a99130077b3e4146bd2ae20eb0caed0d",
      "placeholder": "​",
      "style": "IPY_MODEL_d1527855afc54938b7826f7277fddfeb",
      "value": "Downloading: 100%"
     }
    },
    "761b2f1744134393b67ddb4dd3ef4e17": {
     "model_module": "@jupyter-widgets/controls",
     "model_module_version": "1.5.0",
     "model_name": "HBoxModel",
     "state": {
      "_dom_classes": [],
      "_model_module": "@jupyter-widgets/controls",
      "_model_module_version": "1.5.0",
      "_model_name": "HBoxModel",
      "_view_count": null,
      "_view_module": "@jupyter-widgets/controls",
      "_view_module_version": "1.5.0",
      "_view_name": "HBoxView",
      "box_style": "",
      "children": [
       "IPY_MODEL_b6d9dc95bb284eadb0df957548c99db9",
       "IPY_MODEL_52df43e750f340d2b93fbe6742e90a85",
       "IPY_MODEL_5bb1a5c391d148bda083c73f677fc560"
      ],
      "layout": "IPY_MODEL_260d249fcd9c4be2b2c7d816e95b9554"
     }
    },
    "7960a67653e34eaa9bca9f344ac39c34": {
     "model_module": "@jupyter-widgets/base",
     "model_module_version": "1.2.0",
     "model_name": "LayoutModel",
     "state": {
      "_model_module": "@jupyter-widgets/base",
      "_model_module_version": "1.2.0",
      "_model_name": "LayoutModel",
      "_view_count": null,
      "_view_module": "@jupyter-widgets/base",
      "_view_module_version": "1.2.0",
      "_view_name": "LayoutView",
      "align_content": null,
      "align_items": null,
      "align_self": null,
      "border": null,
      "bottom": null,
      "display": null,
      "flex": null,
      "flex_flow": null,
      "grid_area": null,
      "grid_auto_columns": null,
      "grid_auto_flow": null,
      "grid_auto_rows": null,
      "grid_column": null,
      "grid_gap": null,
      "grid_row": null,
      "grid_template_areas": null,
      "grid_template_columns": null,
      "grid_template_rows": null,
      "height": null,
      "justify_content": null,
      "justify_items": null,
      "left": null,
      "margin": null,
      "max_height": null,
      "max_width": null,
      "min_height": null,
      "min_width": null,
      "object_fit": null,
      "object_position": null,
      "order": null,
      "overflow": null,
      "overflow_x": null,
      "overflow_y": null,
      "padding": null,
      "right": null,
      "top": null,
      "visibility": null,
      "width": null
     }
    },
    "7972bcf8d9be4c2980b797274eb52234": {
     "model_module": "@jupyter-widgets/controls",
     "model_module_version": "1.5.0",
     "model_name": "HBoxModel",
     "state": {
      "_dom_classes": [],
      "_model_module": "@jupyter-widgets/controls",
      "_model_module_version": "1.5.0",
      "_model_name": "HBoxModel",
      "_view_count": null,
      "_view_module": "@jupyter-widgets/controls",
      "_view_module_version": "1.5.0",
      "_view_name": "HBoxView",
      "box_style": "",
      "children": [
       "IPY_MODEL_6e92fa69ed9d45be997155df9c218645",
       "IPY_MODEL_e19011cbf81e4b16bfcd9b9a6c70fc5a",
       "IPY_MODEL_6d45ac047dd74c4c9934c47722c71a11"
      ],
      "layout": "IPY_MODEL_ab9e0c8104df4814970d1ebe5958e8dd"
     }
    },
    "8504319972564619a41e2386774ea614": {
     "model_module": "@jupyter-widgets/controls",
     "model_module_version": "1.5.0",
     "model_name": "HTMLModel",
     "state": {
      "_dom_classes": [],
      "_model_module": "@jupyter-widgets/controls",
      "_model_module_version": "1.5.0",
      "_model_name": "HTMLModel",
      "_view_count": null,
      "_view_module": "@jupyter-widgets/controls",
      "_view_module_version": "1.5.0",
      "_view_name": "HTMLView",
      "description": "",
      "description_tooltip": null,
      "layout": "IPY_MODEL_1013b1c246ac4f3796a11e9dcfd69589",
      "placeholder": "​",
      "style": "IPY_MODEL_09bf03543d814a7f971e7fa261f24ffb",
      "value": " 446k/446k [00:00&lt;00:00, 1.80MB/s]"
     }
    },
    "89a40c6ab206469aaaaf33dc72f1de35": {
     "model_module": "@jupyter-widgets/base",
     "model_module_version": "1.2.0",
     "model_name": "LayoutModel",
     "state": {
      "_model_module": "@jupyter-widgets/base",
      "_model_module_version": "1.2.0",
      "_model_name": "LayoutModel",
      "_view_count": null,
      "_view_module": "@jupyter-widgets/base",
      "_view_module_version": "1.2.0",
      "_view_name": "LayoutView",
      "align_content": null,
      "align_items": null,
      "align_self": null,
      "border": null,
      "bottom": null,
      "display": null,
      "flex": null,
      "flex_flow": null,
      "grid_area": null,
      "grid_auto_columns": null,
      "grid_auto_flow": null,
      "grid_auto_rows": null,
      "grid_column": null,
      "grid_gap": null,
      "grid_row": null,
      "grid_template_areas": null,
      "grid_template_columns": null,
      "grid_template_rows": null,
      "height": null,
      "justify_content": null,
      "justify_items": null,
      "left": null,
      "margin": null,
      "max_height": null,
      "max_width": null,
      "min_height": null,
      "min_width": null,
      "object_fit": null,
      "object_position": null,
      "order": null,
      "overflow": null,
      "overflow_x": null,
      "overflow_y": null,
      "padding": null,
      "right": null,
      "top": null,
      "visibility": null,
      "width": null
     }
    },
    "8a1d837e53b646639f66f73aa63ef672": {
     "model_module": "@jupyter-widgets/controls",
     "model_module_version": "1.5.0",
     "model_name": "DescriptionStyleModel",
     "state": {
      "_model_module": "@jupyter-widgets/controls",
      "_model_module_version": "1.5.0",
      "_model_name": "DescriptionStyleModel",
      "_view_count": null,
      "_view_module": "@jupyter-widgets/base",
      "_view_module_version": "1.2.0",
      "_view_name": "StyleView",
      "description_width": ""
     }
    },
    "8c61fba209f5474b96425eab4ec04651": {
     "model_module": "@jupyter-widgets/base",
     "model_module_version": "1.2.0",
     "model_name": "LayoutModel",
     "state": {
      "_model_module": "@jupyter-widgets/base",
      "_model_module_version": "1.2.0",
      "_model_name": "LayoutModel",
      "_view_count": null,
      "_view_module": "@jupyter-widgets/base",
      "_view_module_version": "1.2.0",
      "_view_name": "LayoutView",
      "align_content": null,
      "align_items": null,
      "align_self": null,
      "border": null,
      "bottom": null,
      "display": null,
      "flex": null,
      "flex_flow": null,
      "grid_area": null,
      "grid_auto_columns": null,
      "grid_auto_flow": null,
      "grid_auto_rows": null,
      "grid_column": null,
      "grid_gap": null,
      "grid_row": null,
      "grid_template_areas": null,
      "grid_template_columns": null,
      "grid_template_rows": null,
      "height": null,
      "justify_content": null,
      "justify_items": null,
      "left": null,
      "margin": null,
      "max_height": null,
      "max_width": null,
      "min_height": null,
      "min_width": null,
      "object_fit": null,
      "object_position": null,
      "order": null,
      "overflow": null,
      "overflow_x": null,
      "overflow_y": null,
      "padding": null,
      "right": null,
      "top": null,
      "visibility": null,
      "width": null
     }
    },
    "927c2af7ef5447e284eba2b787a36dd4": {
     "model_module": "@jupyter-widgets/controls",
     "model_module_version": "1.5.0",
     "model_name": "DescriptionStyleModel",
     "state": {
      "_model_module": "@jupyter-widgets/controls",
      "_model_module_version": "1.5.0",
      "_model_name": "DescriptionStyleModel",
      "_view_count": null,
      "_view_module": "@jupyter-widgets/base",
      "_view_module_version": "1.2.0",
      "_view_name": "StyleView",
      "description_width": ""
     }
    },
    "96f8b187d70e4dcd92630de250f1448b": {
     "model_module": "@jupyter-widgets/controls",
     "model_module_version": "1.5.0",
     "model_name": "HTMLModel",
     "state": {
      "_dom_classes": [],
      "_model_module": "@jupyter-widgets/controls",
      "_model_module_version": "1.5.0",
      "_model_name": "HTMLModel",
      "_view_count": null,
      "_view_module": "@jupyter-widgets/controls",
      "_view_module_version": "1.5.0",
      "_view_name": "HTMLView",
      "description": "",
      "description_tooltip": null,
      "layout": "IPY_MODEL_46b3fd35039b4ac5b465831e865792ee",
      "placeholder": "​",
      "style": "IPY_MODEL_14cc491a29814fb0b6c52c0e4fd538b8",
      "value": " 1.55k/1.55k [00:00&lt;00:00, 10.1kB/s]"
     }
    },
    "9a993ccf10fa485fbe65f7d192885298": {
     "model_module": "@jupyter-widgets/base",
     "model_module_version": "1.2.0",
     "model_name": "LayoutModel",
     "state": {
      "_model_module": "@jupyter-widgets/base",
      "_model_module_version": "1.2.0",
      "_model_name": "LayoutModel",
      "_view_count": null,
      "_view_module": "@jupyter-widgets/base",
      "_view_module_version": "1.2.0",
      "_view_name": "LayoutView",
      "align_content": null,
      "align_items": null,
      "align_self": null,
      "border": null,
      "bottom": null,
      "display": null,
      "flex": null,
      "flex_flow": null,
      "grid_area": null,
      "grid_auto_columns": null,
      "grid_auto_flow": null,
      "grid_auto_rows": null,
      "grid_column": null,
      "grid_gap": null,
      "grid_row": null,
      "grid_template_areas": null,
      "grid_template_columns": null,
      "grid_template_rows": null,
      "height": null,
      "justify_content": null,
      "justify_items": null,
      "left": null,
      "margin": null,
      "max_height": null,
      "max_width": null,
      "min_height": null,
      "min_width": null,
      "object_fit": null,
      "object_position": null,
      "order": null,
      "overflow": null,
      "overflow_x": null,
      "overflow_y": null,
      "padding": null,
      "right": null,
      "top": null,
      "visibility": null,
      "width": null
     }
    },
    "9b90e0922511470b928d4678108dfabe": {
     "model_module": "@jupyter-widgets/controls",
     "model_module_version": "1.5.0",
     "model_name": "ProgressStyleModel",
     "state": {
      "_model_module": "@jupyter-widgets/controls",
      "_model_module_version": "1.5.0",
      "_model_name": "ProgressStyleModel",
      "_view_count": null,
      "_view_module": "@jupyter-widgets/base",
      "_view_module_version": "1.2.0",
      "_view_name": "StyleView",
      "bar_color": null,
      "description_width": ""
     }
    },
    "a99130077b3e4146bd2ae20eb0caed0d": {
     "model_module": "@jupyter-widgets/base",
     "model_module_version": "1.2.0",
     "model_name": "LayoutModel",
     "state": {
      "_model_module": "@jupyter-widgets/base",
      "_model_module_version": "1.2.0",
      "_model_name": "LayoutModel",
      "_view_count": null,
      "_view_module": "@jupyter-widgets/base",
      "_view_module_version": "1.2.0",
      "_view_name": "LayoutView",
      "align_content": null,
      "align_items": null,
      "align_self": null,
      "border": null,
      "bottom": null,
      "display": null,
      "flex": null,
      "flex_flow": null,
      "grid_area": null,
      "grid_auto_columns": null,
      "grid_auto_flow": null,
      "grid_auto_rows": null,
      "grid_column": null,
      "grid_gap": null,
      "grid_row": null,
      "grid_template_areas": null,
      "grid_template_columns": null,
      "grid_template_rows": null,
      "height": null,
      "justify_content": null,
      "justify_items": null,
      "left": null,
      "margin": null,
      "max_height": null,
      "max_width": null,
      "min_height": null,
      "min_width": null,
      "object_fit": null,
      "object_position": null,
      "order": null,
      "overflow": null,
      "overflow_x": null,
      "overflow_y": null,
      "padding": null,
      "right": null,
      "top": null,
      "visibility": null,
      "width": null
     }
    },
    "aaed3c03c3f0452db63bd18d4075b84a": {
     "model_module": "@jupyter-widgets/base",
     "model_module_version": "1.2.0",
     "model_name": "LayoutModel",
     "state": {
      "_model_module": "@jupyter-widgets/base",
      "_model_module_version": "1.2.0",
      "_model_name": "LayoutModel",
      "_view_count": null,
      "_view_module": "@jupyter-widgets/base",
      "_view_module_version": "1.2.0",
      "_view_name": "LayoutView",
      "align_content": null,
      "align_items": null,
      "align_self": null,
      "border": null,
      "bottom": null,
      "display": null,
      "flex": null,
      "flex_flow": null,
      "grid_area": null,
      "grid_auto_columns": null,
      "grid_auto_flow": null,
      "grid_auto_rows": null,
      "grid_column": null,
      "grid_gap": null,
      "grid_row": null,
      "grid_template_areas": null,
      "grid_template_columns": null,
      "grid_template_rows": null,
      "height": null,
      "justify_content": null,
      "justify_items": null,
      "left": null,
      "margin": null,
      "max_height": null,
      "max_width": null,
      "min_height": null,
      "min_width": null,
      "object_fit": null,
      "object_position": null,
      "order": null,
      "overflow": null,
      "overflow_x": null,
      "overflow_y": null,
      "padding": null,
      "right": null,
      "top": null,
      "visibility": null,
      "width": null
     }
    },
    "ab9e0c8104df4814970d1ebe5958e8dd": {
     "model_module": "@jupyter-widgets/base",
     "model_module_version": "1.2.0",
     "model_name": "LayoutModel",
     "state": {
      "_model_module": "@jupyter-widgets/base",
      "_model_module_version": "1.2.0",
      "_model_name": "LayoutModel",
      "_view_count": null,
      "_view_module": "@jupyter-widgets/base",
      "_view_module_version": "1.2.0",
      "_view_name": "LayoutView",
      "align_content": null,
      "align_items": null,
      "align_self": null,
      "border": null,
      "bottom": null,
      "display": null,
      "flex": null,
      "flex_flow": null,
      "grid_area": null,
      "grid_auto_columns": null,
      "grid_auto_flow": null,
      "grid_auto_rows": null,
      "grid_column": null,
      "grid_gap": null,
      "grid_row": null,
      "grid_template_areas": null,
      "grid_template_columns": null,
      "grid_template_rows": null,
      "height": null,
      "justify_content": null,
      "justify_items": null,
      "left": null,
      "margin": null,
      "max_height": null,
      "max_width": null,
      "min_height": null,
      "min_width": null,
      "object_fit": null,
      "object_position": null,
      "order": null,
      "overflow": null,
      "overflow_x": null,
      "overflow_y": null,
      "padding": null,
      "right": null,
      "top": null,
      "visibility": null,
      "width": null
     }
    },
    "aceaf563bcd646a8b167c33449d9b03f": {
     "model_module": "@jupyter-widgets/base",
     "model_module_version": "1.2.0",
     "model_name": "LayoutModel",
     "state": {
      "_model_module": "@jupyter-widgets/base",
      "_model_module_version": "1.2.0",
      "_model_name": "LayoutModel",
      "_view_count": null,
      "_view_module": "@jupyter-widgets/base",
      "_view_module_version": "1.2.0",
      "_view_name": "LayoutView",
      "align_content": null,
      "align_items": null,
      "align_self": null,
      "border": null,
      "bottom": null,
      "display": null,
      "flex": null,
      "flex_flow": null,
      "grid_area": null,
      "grid_auto_columns": null,
      "grid_auto_flow": null,
      "grid_auto_rows": null,
      "grid_column": null,
      "grid_gap": null,
      "grid_row": null,
      "grid_template_areas": null,
      "grid_template_columns": null,
      "grid_template_rows": null,
      "height": null,
      "justify_content": null,
      "justify_items": null,
      "left": null,
      "margin": null,
      "max_height": null,
      "max_width": null,
      "min_height": null,
      "min_width": null,
      "object_fit": null,
      "object_position": null,
      "order": null,
      "overflow": null,
      "overflow_x": null,
      "overflow_y": null,
      "padding": null,
      "right": null,
      "top": null,
      "visibility": null,
      "width": null
     }
    },
    "af905678d2cb4e5593e9329c8b426d05": {
     "model_module": "@jupyter-widgets/controls",
     "model_module_version": "1.5.0",
     "model_name": "HBoxModel",
     "state": {
      "_dom_classes": [],
      "_model_module": "@jupyter-widgets/controls",
      "_model_module_version": "1.5.0",
      "_model_name": "HBoxModel",
      "_view_count": null,
      "_view_module": "@jupyter-widgets/controls",
      "_view_module_version": "1.5.0",
      "_view_name": "HBoxView",
      "box_style": "",
      "children": [
       "IPY_MODEL_61b05c0c2c9a408cb0ce54830f0c915b",
       "IPY_MODEL_4cfbb01125594f3d966f14b75dbdbe4b",
       "IPY_MODEL_8504319972564619a41e2386774ea614"
      ],
      "layout": "IPY_MODEL_633d3680baf14db595f5d90f2290f92c"
     }
    },
    "b01e3a205fae4f98affca91e748bd181": {
     "model_module": "@jupyter-widgets/base",
     "model_module_version": "1.2.0",
     "model_name": "LayoutModel",
     "state": {
      "_model_module": "@jupyter-widgets/base",
      "_model_module_version": "1.2.0",
      "_model_name": "LayoutModel",
      "_view_count": null,
      "_view_module": "@jupyter-widgets/base",
      "_view_module_version": "1.2.0",
      "_view_name": "LayoutView",
      "align_content": null,
      "align_items": null,
      "align_self": null,
      "border": null,
      "bottom": null,
      "display": null,
      "flex": null,
      "flex_flow": null,
      "grid_area": null,
      "grid_auto_columns": null,
      "grid_auto_flow": null,
      "grid_auto_rows": null,
      "grid_column": null,
      "grid_gap": null,
      "grid_row": null,
      "grid_template_areas": null,
      "grid_template_columns": null,
      "grid_template_rows": null,
      "height": null,
      "justify_content": null,
      "justify_items": null,
      "left": null,
      "margin": null,
      "max_height": null,
      "max_width": null,
      "min_height": null,
      "min_width": null,
      "object_fit": null,
      "object_position": null,
      "order": null,
      "overflow": null,
      "overflow_x": null,
      "overflow_y": null,
      "padding": null,
      "right": null,
      "top": null,
      "visibility": null,
      "width": null
     }
    },
    "b097d3512a07464fbdd4899ff5c00da8": {
     "model_module": "@jupyter-widgets/controls",
     "model_module_version": "1.5.0",
     "model_name": "DescriptionStyleModel",
     "state": {
      "_model_module": "@jupyter-widgets/controls",
      "_model_module_version": "1.5.0",
      "_model_name": "DescriptionStyleModel",
      "_view_count": null,
      "_view_module": "@jupyter-widgets/base",
      "_view_module_version": "1.2.0",
      "_view_name": "StyleView",
      "description_width": ""
     }
    },
    "b155fcbe0e39402ea6255cdbbd7bccc1": {
     "model_module": "@jupyter-widgets/controls",
     "model_module_version": "1.5.0",
     "model_name": "DescriptionStyleModel",
     "state": {
      "_model_module": "@jupyter-widgets/controls",
      "_model_module_version": "1.5.0",
      "_model_name": "DescriptionStyleModel",
      "_view_count": null,
      "_view_module": "@jupyter-widgets/base",
      "_view_module_version": "1.2.0",
      "_view_name": "StyleView",
      "description_width": ""
     }
    },
    "b406cb4d76fd45d4bf253d6701289233": {
     "model_module": "@jupyter-widgets/base",
     "model_module_version": "1.2.0",
     "model_name": "LayoutModel",
     "state": {
      "_model_module": "@jupyter-widgets/base",
      "_model_module_version": "1.2.0",
      "_model_name": "LayoutModel",
      "_view_count": null,
      "_view_module": "@jupyter-widgets/base",
      "_view_module_version": "1.2.0",
      "_view_name": "LayoutView",
      "align_content": null,
      "align_items": null,
      "align_self": null,
      "border": null,
      "bottom": null,
      "display": null,
      "flex": null,
      "flex_flow": null,
      "grid_area": null,
      "grid_auto_columns": null,
      "grid_auto_flow": null,
      "grid_auto_rows": null,
      "grid_column": null,
      "grid_gap": null,
      "grid_row": null,
      "grid_template_areas": null,
      "grid_template_columns": null,
      "grid_template_rows": null,
      "height": null,
      "justify_content": null,
      "justify_items": null,
      "left": null,
      "margin": null,
      "max_height": null,
      "max_width": null,
      "min_height": null,
      "min_width": null,
      "object_fit": null,
      "object_position": null,
      "order": null,
      "overflow": null,
      "overflow_x": null,
      "overflow_y": null,
      "padding": null,
      "right": null,
      "top": null,
      "visibility": null,
      "width": null
     }
    },
    "b423e0729d36468ebd004d3e1ae7bdc6": {
     "model_module": "@jupyter-widgets/base",
     "model_module_version": "1.2.0",
     "model_name": "LayoutModel",
     "state": {
      "_model_module": "@jupyter-widgets/base",
      "_model_module_version": "1.2.0",
      "_model_name": "LayoutModel",
      "_view_count": null,
      "_view_module": "@jupyter-widgets/base",
      "_view_module_version": "1.2.0",
      "_view_name": "LayoutView",
      "align_content": null,
      "align_items": null,
      "align_self": null,
      "border": null,
      "bottom": null,
      "display": null,
      "flex": null,
      "flex_flow": null,
      "grid_area": null,
      "grid_auto_columns": null,
      "grid_auto_flow": null,
      "grid_auto_rows": null,
      "grid_column": null,
      "grid_gap": null,
      "grid_row": null,
      "grid_template_areas": null,
      "grid_template_columns": null,
      "grid_template_rows": null,
      "height": null,
      "justify_content": null,
      "justify_items": null,
      "left": null,
      "margin": null,
      "max_height": null,
      "max_width": null,
      "min_height": null,
      "min_width": null,
      "object_fit": null,
      "object_position": null,
      "order": null,
      "overflow": null,
      "overflow_x": null,
      "overflow_y": null,
      "padding": null,
      "right": null,
      "top": null,
      "visibility": null,
      "width": null
     }
    },
    "b6d9dc95bb284eadb0df957548c99db9": {
     "model_module": "@jupyter-widgets/controls",
     "model_module_version": "1.5.0",
     "model_name": "HTMLModel",
     "state": {
      "_dom_classes": [],
      "_model_module": "@jupyter-widgets/controls",
      "_model_module_version": "1.5.0",
      "_model_name": "HTMLModel",
      "_view_count": null,
      "_view_module": "@jupyter-widgets/controls",
      "_view_module_version": "1.5.0",
      "_view_name": "HTMLView",
      "description": "",
      "description_tooltip": null,
      "layout": "IPY_MODEL_4c78a38b836e495b97e08750d386b4ba",
      "placeholder": "​",
      "style": "IPY_MODEL_0e01504a366845a4b95f8a311aeaa9b6",
      "value": "Downloading: 100%"
     }
    },
    "ba91a0eff7ee4de69b2ab72752c93d3b": {
     "model_module": "@jupyter-widgets/controls",
     "model_module_version": "1.5.0",
     "model_name": "HBoxModel",
     "state": {
      "_dom_classes": [],
      "_model_module": "@jupyter-widgets/controls",
      "_model_module_version": "1.5.0",
      "_model_name": "HBoxModel",
      "_view_count": null,
      "_view_module": "@jupyter-widgets/controls",
      "_view_module_version": "1.5.0",
      "_view_name": "HBoxView",
      "box_style": "",
      "children": [
       "IPY_MODEL_5b21a9c986a941e5b21f0b984c54b4b6",
       "IPY_MODEL_099ddd001365441bae4452f34e46eb8f",
       "IPY_MODEL_104c49b568d14080b82a278c40eeba5f"
      ],
      "layout": "IPY_MODEL_bc4c5749a5674868951dcbb745c707ff"
     }
    },
    "bb8b8de2dfd844478be7c0519e0ffadc": {
     "model_module": "@jupyter-widgets/controls",
     "model_module_version": "1.5.0",
     "model_name": "DescriptionStyleModel",
     "state": {
      "_model_module": "@jupyter-widgets/controls",
      "_model_module_version": "1.5.0",
      "_model_name": "DescriptionStyleModel",
      "_view_count": null,
      "_view_module": "@jupyter-widgets/base",
      "_view_module_version": "1.2.0",
      "_view_name": "StyleView",
      "description_width": ""
     }
    },
    "bc4c5749a5674868951dcbb745c707ff": {
     "model_module": "@jupyter-widgets/base",
     "model_module_version": "1.2.0",
     "model_name": "LayoutModel",
     "state": {
      "_model_module": "@jupyter-widgets/base",
      "_model_module_version": "1.2.0",
      "_model_name": "LayoutModel",
      "_view_count": null,
      "_view_module": "@jupyter-widgets/base",
      "_view_module_version": "1.2.0",
      "_view_name": "LayoutView",
      "align_content": null,
      "align_items": null,
      "align_self": null,
      "border": null,
      "bottom": null,
      "display": null,
      "flex": null,
      "flex_flow": null,
      "grid_area": null,
      "grid_auto_columns": null,
      "grid_auto_flow": null,
      "grid_auto_rows": null,
      "grid_column": null,
      "grid_gap": null,
      "grid_row": null,
      "grid_template_areas": null,
      "grid_template_columns": null,
      "grid_template_rows": null,
      "height": null,
      "justify_content": null,
      "justify_items": null,
      "left": null,
      "margin": null,
      "max_height": null,
      "max_width": null,
      "min_height": null,
      "min_width": null,
      "object_fit": null,
      "object_position": null,
      "order": null,
      "overflow": null,
      "overflow_x": null,
      "overflow_y": null,
      "padding": null,
      "right": null,
      "top": null,
      "visibility": null,
      "width": null
     }
    },
    "bd640f26c7b240e0b5b1585b7c410964": {
     "model_module": "@jupyter-widgets/controls",
     "model_module_version": "1.5.0",
     "model_name": "HTMLModel",
     "state": {
      "_dom_classes": [],
      "_model_module": "@jupyter-widgets/controls",
      "_model_module_version": "1.5.0",
      "_model_name": "HTMLModel",
      "_view_count": null,
      "_view_module": "@jupyter-widgets/controls",
      "_view_module_version": "1.5.0",
      "_view_name": "HTMLView",
      "description": "",
      "description_tooltip": null,
      "layout": "IPY_MODEL_8c61fba209f5474b96425eab4ec04651",
      "placeholder": "​",
      "style": "IPY_MODEL_33834a30119a4a3da211fb5a03641a8a",
      "value": "Downloading: 100%"
     }
    },
    "bf2cc3d07f8445418d71c01b9a75e92c": {
     "model_module": "@jupyter-widgets/base",
     "model_module_version": "1.2.0",
     "model_name": "LayoutModel",
     "state": {
      "_model_module": "@jupyter-widgets/base",
      "_model_module_version": "1.2.0",
      "_model_name": "LayoutModel",
      "_view_count": null,
      "_view_module": "@jupyter-widgets/base",
      "_view_module_version": "1.2.0",
      "_view_name": "LayoutView",
      "align_content": null,
      "align_items": null,
      "align_self": null,
      "border": null,
      "bottom": null,
      "display": null,
      "flex": null,
      "flex_flow": null,
      "grid_area": null,
      "grid_auto_columns": null,
      "grid_auto_flow": null,
      "grid_auto_rows": null,
      "grid_column": null,
      "grid_gap": null,
      "grid_row": null,
      "grid_template_areas": null,
      "grid_template_columns": null,
      "grid_template_rows": null,
      "height": null,
      "justify_content": null,
      "justify_items": null,
      "left": null,
      "margin": null,
      "max_height": null,
      "max_width": null,
      "min_height": null,
      "min_width": null,
      "object_fit": null,
      "object_position": null,
      "order": null,
      "overflow": null,
      "overflow_x": null,
      "overflow_y": null,
      "padding": null,
      "right": null,
      "top": null,
      "visibility": null,
      "width": null
     }
    },
    "c3b142450a8743a9975dd4246131e4cc": {
     "model_module": "@jupyter-widgets/controls",
     "model_module_version": "1.5.0",
     "model_name": "DescriptionStyleModel",
     "state": {
      "_model_module": "@jupyter-widgets/controls",
      "_model_module_version": "1.5.0",
      "_model_name": "DescriptionStyleModel",
      "_view_count": null,
      "_view_module": "@jupyter-widgets/base",
      "_view_module_version": "1.2.0",
      "_view_name": "StyleView",
      "description_width": ""
     }
    },
    "c4f3efbddf6e4f8c80e9515e89120f36": {
     "model_module": "@jupyter-widgets/controls",
     "model_module_version": "1.5.0",
     "model_name": "FloatProgressModel",
     "state": {
      "_dom_classes": [],
      "_model_module": "@jupyter-widgets/controls",
      "_model_module_version": "1.5.0",
      "_model_name": "FloatProgressModel",
      "_view_count": null,
      "_view_module": "@jupyter-widgets/controls",
      "_view_module_version": "1.5.0",
      "_view_name": "ProgressView",
      "bar_style": "success",
      "description": "",
      "description_tooltip": null,
      "layout": "IPY_MODEL_e0b39a00c26642179a137ff0b0562b70",
      "max": 1585,
      "min": 0,
      "orientation": "horizontal",
      "style": "IPY_MODEL_9b90e0922511470b928d4678108dfabe",
      "value": 1585
     }
    },
    "c558fdb73c3846b5a83786c6bccd5114": {
     "model_module": "@jupyter-widgets/controls",
     "model_module_version": "1.5.0",
     "model_name": "HBoxModel",
     "state": {
      "_dom_classes": [],
      "_model_module": "@jupyter-widgets/controls",
      "_model_module_version": "1.5.0",
      "_model_name": "HBoxModel",
      "_view_count": null,
      "_view_module": "@jupyter-widgets/controls",
      "_view_module_version": "1.5.0",
      "_view_name": "HBoxView",
      "box_style": "",
      "children": [
       "IPY_MODEL_4c064b8630074e2c8f83a2afbb04898b",
       "IPY_MODEL_c4f3efbddf6e4f8c80e9515e89120f36",
       "IPY_MODEL_96f8b187d70e4dcd92630de250f1448b"
      ],
      "layout": "IPY_MODEL_e98c85160d76428c940eb77283a4b01d"
     }
    },
    "c6f866ea27b04ac1aea6cc59377550f5": {
     "model_module": "@jupyter-widgets/controls",
     "model_module_version": "1.5.0",
     "model_name": "HTMLModel",
     "state": {
      "_dom_classes": [],
      "_model_module": "@jupyter-widgets/controls",
      "_model_module_version": "1.5.0",
      "_model_name": "HTMLModel",
      "_view_count": null,
      "_view_module": "@jupyter-widgets/controls",
      "_view_module_version": "1.5.0",
      "_view_name": "HTMLView",
      "description": "",
      "description_tooltip": null,
      "layout": "IPY_MODEL_aaed3c03c3f0452db63bd18d4075b84a",
      "placeholder": "​",
      "style": "IPY_MODEL_54367e1e63d646489f522678b068cf28",
      "value": " 878k/878k [00:00&lt;00:00, 1.67MB/s]"
     }
    },
    "cbc65cb2ab004c258178751b518547d8": {
     "model_module": "@jupyter-widgets/base",
     "model_module_version": "1.2.0",
     "model_name": "LayoutModel",
     "state": {
      "_model_module": "@jupyter-widgets/base",
      "_model_module_version": "1.2.0",
      "_model_name": "LayoutModel",
      "_view_count": null,
      "_view_module": "@jupyter-widgets/base",
      "_view_module_version": "1.2.0",
      "_view_name": "LayoutView",
      "align_content": null,
      "align_items": null,
      "align_self": null,
      "border": null,
      "bottom": null,
      "display": null,
      "flex": null,
      "flex_flow": null,
      "grid_area": null,
      "grid_auto_columns": null,
      "grid_auto_flow": null,
      "grid_auto_rows": null,
      "grid_column": null,
      "grid_gap": null,
      "grid_row": null,
      "grid_template_areas": null,
      "grid_template_columns": null,
      "grid_template_rows": null,
      "height": null,
      "justify_content": null,
      "justify_items": null,
      "left": null,
      "margin": null,
      "max_height": null,
      "max_width": null,
      "min_height": null,
      "min_width": null,
      "object_fit": null,
      "object_position": null,
      "order": null,
      "overflow": null,
      "overflow_x": null,
      "overflow_y": null,
      "padding": null,
      "right": null,
      "top": null,
      "visibility": null,
      "width": null
     }
    },
    "d1527855afc54938b7826f7277fddfeb": {
     "model_module": "@jupyter-widgets/controls",
     "model_module_version": "1.5.0",
     "model_name": "DescriptionStyleModel",
     "state": {
      "_model_module": "@jupyter-widgets/controls",
      "_model_module_version": "1.5.0",
      "_model_name": "DescriptionStyleModel",
      "_view_count": null,
      "_view_module": "@jupyter-widgets/base",
      "_view_module_version": "1.2.0",
      "_view_name": "StyleView",
      "description_width": ""
     }
    },
    "d715f6117ece4574aabce18d49349126": {
     "model_module": "@jupyter-widgets/base",
     "model_module_version": "1.2.0",
     "model_name": "LayoutModel",
     "state": {
      "_model_module": "@jupyter-widgets/base",
      "_model_module_version": "1.2.0",
      "_model_name": "LayoutModel",
      "_view_count": null,
      "_view_module": "@jupyter-widgets/base",
      "_view_module_version": "1.2.0",
      "_view_name": "LayoutView",
      "align_content": null,
      "align_items": null,
      "align_self": null,
      "border": null,
      "bottom": null,
      "display": null,
      "flex": null,
      "flex_flow": null,
      "grid_area": null,
      "grid_auto_columns": null,
      "grid_auto_flow": null,
      "grid_auto_rows": null,
      "grid_column": null,
      "grid_gap": null,
      "grid_row": null,
      "grid_template_areas": null,
      "grid_template_columns": null,
      "grid_template_rows": null,
      "height": null,
      "justify_content": null,
      "justify_items": null,
      "left": null,
      "margin": null,
      "max_height": null,
      "max_width": null,
      "min_height": null,
      "min_width": null,
      "object_fit": null,
      "object_position": null,
      "order": null,
      "overflow": null,
      "overflow_x": null,
      "overflow_y": null,
      "padding": null,
      "right": null,
      "top": null,
      "visibility": null,
      "width": null
     }
    },
    "d97173097ada41d68d873bc144dac4e6": {
     "model_module": "@jupyter-widgets/controls",
     "model_module_version": "1.5.0",
     "model_name": "HBoxModel",
     "state": {
      "_dom_classes": [],
      "_model_module": "@jupyter-widgets/controls",
      "_model_module_version": "1.5.0",
      "_model_name": "HBoxModel",
      "_view_count": null,
      "_view_module": "@jupyter-widgets/controls",
      "_view_module_version": "1.5.0",
      "_view_name": "HBoxView",
      "box_style": "",
      "children": [
       "IPY_MODEL_19bc3d1ac74147a5bc05a13982908fdd",
       "IPY_MODEL_66c85d8cba4c43a49c1e53b7b398387e",
       "IPY_MODEL_33a24bfea88443219e8c0356a88c376a"
      ],
      "layout": "IPY_MODEL_26a1d6790ac64ef2853fcf620ef99e4e"
     }
    },
    "de7bd7bd1bba462fa728d51fca74fb17": {
     "model_module": "@jupyter-widgets/controls",
     "model_module_version": "1.5.0",
     "model_name": "DescriptionStyleModel",
     "state": {
      "_model_module": "@jupyter-widgets/controls",
      "_model_module_version": "1.5.0",
      "_model_name": "DescriptionStyleModel",
      "_view_count": null,
      "_view_module": "@jupyter-widgets/base",
      "_view_module_version": "1.2.0",
      "_view_name": "StyleView",
      "description_width": ""
     }
    },
    "de856f033a2749b9b1f9a457f239ecf8": {
     "model_module": "@jupyter-widgets/controls",
     "model_module_version": "1.5.0",
     "model_name": "ProgressStyleModel",
     "state": {
      "_model_module": "@jupyter-widgets/controls",
      "_model_module_version": "1.5.0",
      "_model_name": "ProgressStyleModel",
      "_view_count": null,
      "_view_module": "@jupyter-widgets/base",
      "_view_module_version": "1.2.0",
      "_view_name": "StyleView",
      "bar_color": null,
      "description_width": ""
     }
    },
    "e0b39a00c26642179a137ff0b0562b70": {
     "model_module": "@jupyter-widgets/base",
     "model_module_version": "1.2.0",
     "model_name": "LayoutModel",
     "state": {
      "_model_module": "@jupyter-widgets/base",
      "_model_module_version": "1.2.0",
      "_model_name": "LayoutModel",
      "_view_count": null,
      "_view_module": "@jupyter-widgets/base",
      "_view_module_version": "1.2.0",
      "_view_name": "LayoutView",
      "align_content": null,
      "align_items": null,
      "align_self": null,
      "border": null,
      "bottom": null,
      "display": null,
      "flex": null,
      "flex_flow": null,
      "grid_area": null,
      "grid_auto_columns": null,
      "grid_auto_flow": null,
      "grid_auto_rows": null,
      "grid_column": null,
      "grid_gap": null,
      "grid_row": null,
      "grid_template_areas": null,
      "grid_template_columns": null,
      "grid_template_rows": null,
      "height": null,
      "justify_content": null,
      "justify_items": null,
      "left": null,
      "margin": null,
      "max_height": null,
      "max_width": null,
      "min_height": null,
      "min_width": null,
      "object_fit": null,
      "object_position": null,
      "order": null,
      "overflow": null,
      "overflow_x": null,
      "overflow_y": null,
      "padding": null,
      "right": null,
      "top": null,
      "visibility": null,
      "width": null
     }
    },
    "e19011cbf81e4b16bfcd9b9a6c70fc5a": {
     "model_module": "@jupyter-widgets/controls",
     "model_module_version": "1.5.0",
     "model_name": "FloatProgressModel",
     "state": {
      "_dom_classes": [],
      "_model_module": "@jupyter-widgets/controls",
      "_model_module_version": "1.5.0",
      "_model_name": "FloatProgressModel",
      "_view_count": null,
      "_view_module": "@jupyter-widgets/controls",
      "_view_module_version": "1.5.0",
      "_view_name": "ProgressView",
      "bar_style": "success",
      "description": "",
      "description_tooltip": null,
      "layout": "IPY_MODEL_ed237ecd06b247ceb3ee22178e6f9cc3",
      "max": 1802,
      "min": 0,
      "orientation": "horizontal",
      "style": "IPY_MODEL_00a47000e2924347b3df9fdc8ca16a2c",
      "value": 1802
     }
    },
    "e45e563cd44d4523865cc1f21abc8000": {
     "model_module": "@jupyter-widgets/controls",
     "model_module_version": "1.5.0",
     "model_name": "DescriptionStyleModel",
     "state": {
      "_model_module": "@jupyter-widgets/controls",
      "_model_module_version": "1.5.0",
      "_model_name": "DescriptionStyleModel",
      "_view_count": null,
      "_view_module": "@jupyter-widgets/base",
      "_view_module_version": "1.2.0",
      "_view_name": "StyleView",
      "description_width": ""
     }
    },
    "e62abaf2a91540539ce51a515d985289": {
     "model_module": "@jupyter-widgets/controls",
     "model_module_version": "1.5.0",
     "model_name": "ProgressStyleModel",
     "state": {
      "_model_module": "@jupyter-widgets/controls",
      "_model_module_version": "1.5.0",
      "_model_name": "ProgressStyleModel",
      "_view_count": null,
      "_view_module": "@jupyter-widgets/base",
      "_view_module_version": "1.2.0",
      "_view_name": "StyleView",
      "bar_color": null,
      "description_width": ""
     }
    },
    "e98c85160d76428c940eb77283a4b01d": {
     "model_module": "@jupyter-widgets/base",
     "model_module_version": "1.2.0",
     "model_name": "LayoutModel",
     "state": {
      "_model_module": "@jupyter-widgets/base",
      "_model_module_version": "1.2.0",
      "_model_name": "LayoutModel",
      "_view_count": null,
      "_view_module": "@jupyter-widgets/base",
      "_view_module_version": "1.2.0",
      "_view_name": "LayoutView",
      "align_content": null,
      "align_items": null,
      "align_self": null,
      "border": null,
      "bottom": null,
      "display": null,
      "flex": null,
      "flex_flow": null,
      "grid_area": null,
      "grid_auto_columns": null,
      "grid_auto_flow": null,
      "grid_auto_rows": null,
      "grid_column": null,
      "grid_gap": null,
      "grid_row": null,
      "grid_template_areas": null,
      "grid_template_columns": null,
      "grid_template_rows": null,
      "height": null,
      "justify_content": null,
      "justify_items": null,
      "left": null,
      "margin": null,
      "max_height": null,
      "max_width": null,
      "min_height": null,
      "min_width": null,
      "object_fit": null,
      "object_position": null,
      "order": null,
      "overflow": null,
      "overflow_x": null,
      "overflow_y": null,
      "padding": null,
      "right": null,
      "top": null,
      "visibility": null,
      "width": null
     }
    },
    "ed237ecd06b247ceb3ee22178e6f9cc3": {
     "model_module": "@jupyter-widgets/base",
     "model_module_version": "1.2.0",
     "model_name": "LayoutModel",
     "state": {
      "_model_module": "@jupyter-widgets/base",
      "_model_module_version": "1.2.0",
      "_model_name": "LayoutModel",
      "_view_count": null,
      "_view_module": "@jupyter-widgets/base",
      "_view_module_version": "1.2.0",
      "_view_name": "LayoutView",
      "align_content": null,
      "align_items": null,
      "align_self": null,
      "border": null,
      "bottom": null,
      "display": null,
      "flex": null,
      "flex_flow": null,
      "grid_area": null,
      "grid_auto_columns": null,
      "grid_auto_flow": null,
      "grid_auto_rows": null,
      "grid_column": null,
      "grid_gap": null,
      "grid_row": null,
      "grid_template_areas": null,
      "grid_template_columns": null,
      "grid_template_rows": null,
      "height": null,
      "justify_content": null,
      "justify_items": null,
      "left": null,
      "margin": null,
      "max_height": null,
      "max_width": null,
      "min_height": null,
      "min_width": null,
      "object_fit": null,
      "object_position": null,
      "order": null,
      "overflow": null,
      "overflow_x": null,
      "overflow_y": null,
      "padding": null,
      "right": null,
      "top": null,
      "visibility": null,
      "width": null
     }
    },
    "fb89948b0932430dacec0ad0fec838d8": {
     "model_module": "@jupyter-widgets/controls",
     "model_module_version": "1.5.0",
     "model_name": "ProgressStyleModel",
     "state": {
      "_model_module": "@jupyter-widgets/controls",
      "_model_module_version": "1.5.0",
      "_model_name": "ProgressStyleModel",
      "_view_count": null,
      "_view_module": "@jupyter-widgets/base",
      "_view_module_version": "1.2.0",
      "_view_name": "StyleView",
      "bar_color": null,
      "description_width": ""
     }
    },
    "fe19b9539bad4e1aaca640fe7fbd3cf6": {
     "model_module": "@jupyter-widgets/base",
     "model_module_version": "1.2.0",
     "model_name": "LayoutModel",
     "state": {
      "_model_module": "@jupyter-widgets/base",
      "_model_module_version": "1.2.0",
      "_model_name": "LayoutModel",
      "_view_count": null,
      "_view_module": "@jupyter-widgets/base",
      "_view_module_version": "1.2.0",
      "_view_name": "LayoutView",
      "align_content": null,
      "align_items": null,
      "align_self": null,
      "border": null,
      "bottom": null,
      "display": null,
      "flex": null,
      "flex_flow": null,
      "grid_area": null,
      "grid_auto_columns": null,
      "grid_auto_flow": null,
      "grid_auto_rows": null,
      "grid_column": null,
      "grid_gap": null,
      "grid_row": null,
      "grid_template_areas": null,
      "grid_template_columns": null,
      "grid_template_rows": null,
      "height": null,
      "justify_content": null,
      "justify_items": null,
      "left": null,
      "margin": null,
      "max_height": null,
      "max_width": null,
      "min_height": null,
      "min_width": null,
      "object_fit": null,
      "object_position": null,
      "order": null,
      "overflow": null,
      "overflow_x": null,
      "overflow_y": null,
      "padding": null,
      "right": null,
      "top": null,
      "visibility": null,
      "width": null
     }
    },
    "ffab8b1f65294061aaae6051988623eb": {
     "model_module": "@jupyter-widgets/controls",
     "model_module_version": "1.5.0",
     "model_name": "HBoxModel",
     "state": {
      "_dom_classes": [],
      "_model_module": "@jupyter-widgets/controls",
      "_model_module_version": "1.5.0",
      "_model_name": "HBoxModel",
      "_view_count": null,
      "_view_module": "@jupyter-widgets/controls",
      "_view_module_version": "1.5.0",
      "_view_name": "HBoxView",
      "box_style": "",
      "children": [
       "IPY_MODEL_bd640f26c7b240e0b5b1585b7c410964",
       "IPY_MODEL_272fef14e0ae439ba99757a028f39db1",
       "IPY_MODEL_c6f866ea27b04ac1aea6cc59377550f5"
      ],
      "layout": "IPY_MODEL_bf2cc3d07f8445418d71c01b9a75e92c"
     }
    },
    "ffb51c5ec46f4d4db12266f53ee16bcd": {
     "model_module": "@jupyter-widgets/base",
     "model_module_version": "1.2.0",
     "model_name": "LayoutModel",
     "state": {
      "_model_module": "@jupyter-widgets/base",
      "_model_module_version": "1.2.0",
      "_model_name": "LayoutModel",
      "_view_count": null,
      "_view_module": "@jupyter-widgets/base",
      "_view_module_version": "1.2.0",
      "_view_name": "LayoutView",
      "align_content": null,
      "align_items": null,
      "align_self": null,
      "border": null,
      "bottom": null,
      "display": null,
      "flex": null,
      "flex_flow": null,
      "grid_area": null,
      "grid_auto_columns": null,
      "grid_auto_flow": null,
      "grid_auto_rows": null,
      "grid_column": null,
      "grid_gap": null,
      "grid_row": null,
      "grid_template_areas": null,
      "grid_template_columns": null,
      "grid_template_rows": null,
      "height": null,
      "justify_content": null,
      "justify_items": null,
      "left": null,
      "margin": null,
      "max_height": null,
      "max_width": null,
      "min_height": null,
      "min_width": null,
      "object_fit": null,
      "object_position": null,
      "order": null,
      "overflow": null,
      "overflow_x": null,
      "overflow_y": null,
      "padding": null,
      "right": null,
      "top": null,
      "visibility": null,
      "width": null
     }
    }
   }
  }
 },
 "nbformat": 4,
 "nbformat_minor": 4
}
